{
  "cells": [
    {
      "cell_type": "markdown",
      "metadata": {
        "id": "0cHAupqSn6Nq"
      },
      "source": [
        "## HW1: Logistic regression and Linear Regression using Gradient Descent\n",
        "In hw1, you need to implement linear regression by using only numpy, then train your implemented model by the provided dataset and test the performance with testing data\n",
        "\n",
        "Please note that only **NUMPY** can be used to implement your model, you will get no points by simply calling sklearn.linear_model.LinearRegression"
      ]
    },
    {
      "cell_type": "code",
      "execution_count": null,
      "metadata": {
        "id": "XC1yTwx-n6Ns",
        "colab": {
          "base_uri": "https://localhost:8080/"
        },
        "outputId": "c6e647c1-2438-47c2-c0aa-e491df4e7887"
      },
      "outputs": [
        {
          "output_type": "stream",
          "name": "stdout",
          "text": [
            "Drive already mounted at /content/drive; to attempt to forcibly remount, call drive.mount(\"/content/drive\", force_remount=True).\n"
          ]
        }
      ],
      "source": [
        "import numpy as np \n",
        "import pandas as pd\n",
        "import matplotlib.pyplot as plt\n",
        "from google.colab import drive\n",
        "\n",
        "# drive.mount('/content/drive')"
      ]
    },
    {
      "cell_type": "markdown",
      "metadata": {
        "id": "35nvZphqn6Nt"
      },
      "source": [
        "# Part 1. Linear regression model"
      ]
    },
    {
      "cell_type": "markdown",
      "metadata": {
        "id": "UoB1Pdgln6Nt"
      },
      "source": [
        "## Load regression data"
      ]
    },
    {
      "cell_type": "code",
      "execution_count": null,
      "metadata": {
        "id": "LEu36DObn6Nt"
      },
      "outputs": [],
      "source": [
        "# x_train, x_test, y_train, y_test = np.load('/content/drive/MyDrive/regression_data.npy', allow_pickle=True)\n",
        "x_train, x_test, y_train, y_test = np.load('regression_data.npy', allow_pickle=True)"
      ]
    },
    {
      "cell_type": "code",
      "execution_count": null,
      "metadata": {
        "id": "doA9ZQEan6Nu",
        "colab": {
          "base_uri": "https://localhost:8080/",
          "height": 283
        },
        "outputId": "fdbc8291-8fc0-4740-8115-c8abe56a32c3"
      },
      "outputs": [
        {
          "output_type": "execute_result",
          "data": {
            "text/plain": [
              "[<matplotlib.lines.Line2D at 0x7f0d82a61810>]"
            ]
          },
          "metadata": {},
          "execution_count": 103
        },
        {
          "output_type": "display_data",
          "data": {
            "text/plain": [
              "<Figure size 432x288 with 1 Axes>"
            ],
            "image/png": "[encoded data removed]"
          },
          "metadata": {
            "needs_background": "light"
          }
        }
      ],
      "source": [
        "plt.plot(x_train, y_train, '.')"
      ]
    },
    {
      "cell_type": "markdown",
      "metadata": {
        "id": "0Oc9KRmPn6Nu"
      },
      "source": [
        "## Train your model \n",
        "### Pseudo code:\n",
        "1. Random initialize the weights, intercepts of the linear model\n",
        "\n",
        "**for i in range(iteration)**\n",
        "\n",
        "    2. Feed foward the training data into the model, get the output prediction\n",
        "    3. Calculating training loss by Mean Square Error of predcition and ground truth data\n",
        "    4. Calculating the gradients\n",
        "    5. Updating the weights and intercepts by the gradients * learning rate \n",
        "    \n",
        "**End of training**"
      ]
    },
    {
      "cell_type": "code",
      "execution_count": null,
      "metadata": {
        "id": "HNPngjGbn6Nv"
      },
      "outputs": [],
      "source": [
        "# x_train_ = x_train.copy()\n",
        "# y_train_ = y_train.copy()\n",
        "\n",
        "\n",
        "\n",
        "# iteration = 1000\n",
        "# mean = 0 \n",
        "# sigma = 0.1 \n",
        "# learning_rate = 0.003\n",
        "# batch_size = 1\n",
        "\n",
        "# training_loss = []\n",
        "# training_round = []\n",
        "\n",
        "# def compute_loss_SGD(w):\n",
        "#   total_loss = 0.0\n",
        "#   for i in range(len(x_train)):\n",
        "#     total_loss += (x_train[i][0] * w[1] + w[0] - y_train[i]) * (x_train[i][0] * w[1] + w[0] - y_train[i]) * 0.5\n",
        "#   return total_loss/750\n",
        "\n",
        "# w = np.random.normal(mean, sigma, 2)\n",
        "\n",
        "# for i in range(iteration):\n",
        "#   a_batch = min(batch_size , len(x_train_))\n",
        "#   final_batch = 0\n",
        "\n",
        "#   if a_batch == len(x_train_):\n",
        "#     final_batch = 1 \n",
        "\n",
        "#   x_batch = x_train_[:a_batch]\n",
        "#   y_batch = y_train_[:a_batch]\n",
        "\n",
        "#   training_loss.append(compute_loss_SGD(w))\n",
        "#   training_round.append(i)\n",
        "\n",
        "#   grads = np.array([0.0 , 0.0])\n",
        "\n",
        "#   for j in range(a_batch):\n",
        "#     grads[0] += (w[1] * x_batch[j][0] + w[0] - y_batch[j])\n",
        "#     grads[1] += (w[1] * x_batch[j][0] + w[0] - y_batch[j])*(x_batch[j][0])\n",
        "#   for idx , grad in enumerate(grads):\n",
        "#     grads[idx] = 2/a_batch * grad\n",
        "#   for idx , widx in enumerate(w):\n",
        "#     w[idx] = widx - learning_rate * grads[idx]\n",
        "\n",
        "#   if final_batch : \n",
        "#     x_train_ = x_train.copy()\n",
        "#     y_train_ = y_train.copy()\n",
        "#     continue\n",
        "\n",
        "#   x_train_ = x_train_[a_batch:]\n",
        "#   y_train_ = y_train_[a_batch:]\n",
        "\n",
        "# plt.figure(figsize=(10,6))\n",
        "# plt.xlabel(\"iterations\")\n",
        "# plt.ylabel(\"training loss\")\n",
        "# plt.plot(training_round , training_loss)\n",
        "# plt.show()"
      ]
    },
    {
      "cell_type": "code",
      "source": [
        "x_train_ = x_train.copy()\n",
        "y_train_ = y_train.copy()\n",
        "\n",
        "append_feature = [[]]\n",
        "for i in range(len(x_train_)):\n",
        "  append_feature[0].append(1)\n",
        "\n",
        "append_feature = np.array(append_feature)\n",
        "aa = append_feature.T\n",
        "x_train_ = np.concatenate((x_train_, aa), axis=1)\n",
        "\n",
        "iteration = 2000\n",
        "mean = 0 \n",
        "sigma = 0.1 \n",
        "learning_rate = 0.003\n",
        "batch_size = 1\n",
        "\n",
        "training_loss = []\n",
        "training_round = []\n",
        "\n",
        "def compute_loss_SGD(w , b):\n",
        "  total_loss = 0.0\n",
        "  for i in range(len(x_train)):\n",
        "    total_loss += (x_train[i][0] * w + b - y_train[i]) * (x_train[i][0] * w + b - y_train[i]) * 0.5\n",
        "  return total_loss/750\n",
        "\n",
        "w , b = np.random.normal(mean, sigma, 2)\n",
        "\n",
        "for i in range(iteration):\n",
        "  a_batch = min(batch_size , len(x_train_))\n",
        "  final_batch = 0\n",
        "\n",
        "  if a_batch == len(x_train_):\n",
        "    final_batch = 1 \n",
        "\n",
        "  x_batch = x_train_[:a_batch]\n",
        "  y_batch = y_train_[:a_batch]\n",
        "\n",
        "  training_loss.append(compute_loss_SGD(w , b))\n",
        "  training_round.append(i)\n",
        "\n",
        "  grads = np.zeros((2,1))\n",
        "  preds = np.zeros((len(x_batch) , 1))\n",
        "  labels = np.zeros((len(x_batch) , 1))\n",
        "  \n",
        "  for j in range(a_batch):\n",
        "    pred = w * x_batch[j][0] + b\n",
        "    preds[j][0] = pred\n",
        "    labels[j][0] = y_batch[j]\n",
        "  # print(grads)\n",
        "  # print(np.dot(x_batch.T , np.subtract(preds , labels)))\n",
        "  grads += np.dot(x_batch.T , np.subtract(preds , labels))\n",
        "  # print(grads)\n",
        "  grads /= a_batch*1.0\n",
        "  # print(grads)\n",
        "  w -= learning_rate*grads[0][0]\n",
        "  b -= learning_rate*grads[1][0]\n",
        "\n",
        "  if final_batch : \n",
        "    x_train_ = x_train.copy()\n",
        "    x_train_ = np.concatenate((x_train_, aa), axis=1)\n",
        "    y_train_ = y_train.copy()\n",
        "    continue\n",
        "\n",
        "  x_train_ = x_train_[a_batch:]\n",
        "  y_train_ = y_train_[a_batch:]\n",
        "\n",
        "plt.figure(figsize=(10,6))\n",
        "plt.xlabel(\"iterations\")\n",
        "plt.ylabel(\"training loss\")\n",
        "plt.plot(training_round , training_loss)\n",
        "plt.show()"
      ],
      "metadata": {
        "colab": {
          "base_uri": "https://localhost:8080/",
          "height": 392
        },
        "id": "lhqkfFKafJny",
        "outputId": "fab24e5e-da19-4d61-d79c-e92868c14bf0"
      },
      "execution_count": null,
      "outputs": [
        {
          "output_type": "display_data",
          "data": {
            "text/plain": [
              "<Figure size 720x432 with 1 Axes>"
            ],
            "image/png": "[encoded data removed]"
          },
          "metadata": {
            "needs_background": "light"
          }
        }
      ]
    },
    {
      "cell_type": "markdown",
      "metadata": {
        "id": "18ILkCh3n6Nv"
      },
      "source": [
        "## Test the performance on the testing data\n",
        "Inference the test data (x_test) by your model and calculate the loss of (y_test, y_pred)"
      ]
    },
    {
      "cell_type": "code",
      "execution_count": null,
      "metadata": {
        "id": "_R6pdF16n6Nv",
        "colab": {
          "base_uri": "https://localhost:8080/"
        },
        "outputId": "ecab1e1e-5ab9-47f6-c1b3-c41fe048d200"
      },
      "outputs": [
        {
          "output_type": "stream",
          "name": "stdout",
          "text": [
            "52.76404753834208 * x + -0.533990854288034\n",
            "MSE:  110.4548454064262\n"
          ]
        }
      ],
      "source": [
        "print(w , \"* x +\" , b)\n",
        "preds = []\n",
        "for i in range(len(x_test)):\n",
        "  pred = x_test[i][0] * w + b\n",
        "  preds.append(pred)\n",
        "preds = np.array(preds , ndmin = 1)\n",
        "ground_truth = np.array(y_test)\n",
        "MSE = np.square(np.subtract(preds , ground_truth)).mean()\n",
        "print(\"MSE: \" , MSE)\n",
        "\n",
        "# plt.figure(figsize=(10,6))\n",
        "# plt.xlabel(\"x-value\")\n",
        "# plt.ylabel(\"y-value\")\n",
        "# plt.scatter(x_train , y_train , color = \"blue\" , s = 5)\n",
        "# plt.scatter(x_test , y_test , color = \"red\" , s = 5)\n",
        "# plt.plot(x_test , preds , color = \"green\" , linewidth = 2) \n",
        "# plt.show()"
      ]
    },
    {
      "cell_type": "markdown",
      "metadata": {
        "id": "xogcq_QLn6Nv"
      },
      "source": [
        "# Part 2. Logistic regreesion model"
      ]
    },
    {
      "cell_type": "markdown",
      "metadata": {
        "id": "fpGTEKqhn6Nv"
      },
      "source": [
        "## Load classification data"
      ]
    },
    {
      "cell_type": "code",
      "execution_count": null,
      "metadata": {
        "id": "VZLWyFzkn6Nw",
        "colab": {
          "base_uri": "https://localhost:8080/"
        },
        "outputId": "920da554-6be6-4933-df2a-fc6a5705c2ee"
      },
      "outputs": [
        {
          "output_type": "execute_result",
          "data": {
            "text/plain": [
              "(750, 1)"
            ]
          },
          "metadata": {},
          "execution_count": 96
        }
      ],
      "source": [
        "# x_train, x_test, y_train, y_test = np.load('/content/drive/MyDrive/classification_data.npy', allow_pickle=True)\n",
        "x_train, x_test, y_train, y_test = np.load('classification_data.npy', allow_pickle=True)"
      ]
    },
    {
      "cell_type": "code",
      "execution_count": null,
      "metadata": {
        "id": "eIUDbZB_n6Nw",
        "colab": {
          "base_uri": "https://localhost:8080/",
          "height": 283
        },
        "outputId": "977f72df-1d85-432d-b83a-d32f1c983ee3"
      },
      "outputs": [
        {
          "output_type": "execute_result",
          "data": {
            "text/plain": [
              "<matplotlib.collections.PathCollection at 0x7f0d8302cc50>"
            ]
          },
          "metadata": {},
          "execution_count": 97
        },
        {
          "output_type": "display_data",
          "data": {
            "text/plain": [
              "<Figure size 432x288 with 1 Axes>"
            ],
            "image/png": "[encoded data removed]"
          },
          "metadata": {
            "needs_background": "light"
          }
        }
      ],
      "source": [
        "plt.scatter(x_train, np.ones_like(x_train), c= y_train)"
      ]
    },
    {
      "cell_type": "raw",
      "metadata": {
        "id": "hcoTolhln6Nw"
      },
      "source": [
        "## Train your model \n",
        "### Pseudo code:\n",
        "1. Random initialize the weights, intercepts of the linear model\n",
        "\n",
        "**for i in range(iteration)**\n",
        "\n",
        "    2. Feed foward the training data into the model, get the output prediction\n",
        "    3. Calculating training loss by Cross entrooy Error of predcition and ground truth data\n",
        "    4. Calculating the gradients\n",
        "    5. Updating the weights and intercepts by the gradients * learning rate \n",
        "    \n",
        "**End of training**"
      ]
    },
    {
      "cell_type": "code",
      "execution_count": null,
      "metadata": {
        "id": "R4DyqTEAn6Nw"
      },
      "outputs": [],
      "source": [
        "# x_train_ = x_train.copy()\n",
        "# y_train_ = y_train.copy()\n",
        "\n",
        "# def sigmoid(a):\n",
        "#   return 1/(1+np.exp(-a))*1.0\n",
        "\n",
        "# def phi(a):\n",
        "#   return a*1.0\n",
        "\n",
        "# iteration = 1000\n",
        "# mean = 0 \n",
        "# sigma = 0.1 \n",
        "# learning_rate = 0.5\n",
        "# batch_size = 10\n",
        "\n",
        "# training_loss = []\n",
        "# training_round = []\n",
        "\n",
        "# def compute_loss_sigmoid(w , b):\n",
        "#   total_loss = 0.0 \n",
        "#   for i in range(len(x_train)):\n",
        "#     total_loss += -1.0*y_train[i] * np.log(sigmoid(w * phi(x_train[i][0]) + b)) - \\\n",
        "#             (1 - y_train[i]) * np.log(1 - sigmoid(w * phi(x_train[i][0]) + b))\n",
        "#   return total_loss \n",
        "\n",
        "\n",
        "# w , b = np.random.normal(mean, sigma, 2)\n",
        "\n",
        "# for i in range(iteration):\n",
        "#   a_batch = min(batch_size , len(x_train_))\n",
        "#   final_batch = 0\n",
        "\n",
        "#   if a_batch == len(x_train_):\n",
        "#     final_batch = 1 \n",
        "\n",
        "#   x_batch = x_train_[:a_batch]\n",
        "#   y_batch = y_train_[:a_batch]\n",
        "\n",
        "#   training_loss.append(compute_loss_sigmoid(w , b))\n",
        "#   training_round.append(i)\n",
        "\n",
        "#   w_grads = 0.0\n",
        "#   b_grads = 0.0\n",
        "\n",
        "#   for j in range(a_batch):\n",
        "#     w_grads += (sigmoid(w * phi(x_batch[j][0]) + b) - y_batch[j])*phi(x_batch[j][0])\n",
        "#     b_grads += (sigmoid(w * phi(x_batch[j][0]) + b) - y_batch[j])\n",
        "  \n",
        "#   w -= learning_rate * (w_grads/a_batch*1.0)\n",
        "#   b -= learning_rate * (b_grads/a_batch*1.0)\n",
        "\n",
        "#   if final_batch :\n",
        "#      x_train_ = x_train.copy()\n",
        "#      y_train_ = y_train.copy()\n",
        "#      continue\n",
        "\n",
        "#   x_train_ = x_train_[a_batch:]\n",
        "#   y_train_ = y_train_[a_batch:]\n",
        "\n",
        "# plt.figure(figsize=(10,6))\n",
        "# plt.xlabel(\"iterations\")\n",
        "# plt.ylabel(\"training loss\")\n",
        "# plt.plot(training_round , training_loss)\n",
        "# plt.show()"
      ]
    },
    {
      "cell_type": "code",
      "source": [
        "x_train_ = x_train.copy()\n",
        "y_train_ = y_train.copy()\n",
        "\n",
        "append_feature = [[]]\n",
        "for i in range(len(x_train_)):\n",
        "  append_feature[0].append(1)\n",
        "\n",
        "append_feature = np.array(append_feature)\n",
        "aa = append_feature.T\n",
        "x_train_ = np.concatenate((x_train_, aa), axis=1)\n",
        "# print(x_train_)\n",
        "def sigmoid(a):\n",
        "  if a >= 0 : \n",
        "    return 1/(1+np.exp(-a))*1.0\n",
        "  else :\n",
        "    return 1.0*np.exp(a)/(1+np.exp(a))\n",
        "\n",
        "def phi(a):\n",
        "  return a*1.0\n",
        "\n",
        "iteration = 1700\n",
        "mean = 0 \n",
        "sigma = 0.1 \n",
        "learning_rate = 0.3\n",
        "batch_size = 10\n",
        "\n",
        "training_loss = []\n",
        "training_round = []\n",
        "\n",
        "def compute_loss_sigmoid(w , b):\n",
        "  total_loss = 0.0 \n",
        "  for i in range(len(x_train)):\n",
        "    total_loss += -1.0*y_train[i] * np.log(sigmoid(w * phi(x_train[i][0]) + b)) - (1 - y_train[i]) * np.log(1 - sigmoid(w * phi(x_train[i][0]) + b))\n",
        "  return total_loss \n",
        "\n",
        "\n",
        "w , b = np.random.normal(mean, sigma, 2)\n",
        "\n",
        "\n",
        "for i in range(iteration):\n",
        "  a_batch = min(batch_size , len(x_train_))\n",
        "  final_batch = 0\n",
        "\n",
        "  if a_batch == len(x_train_):\n",
        "    final_batch = 1 \n",
        "\n",
        "  x_batch = x_train_[:a_batch]\n",
        "  y_batch = y_train_[:a_batch]\n",
        "\n",
        "  training_loss.append(compute_loss_sigmoid(w , b))\n",
        "  training_round.append(i)\n",
        "\n",
        "  grads = np.zeros((2,1))\n",
        "  preds = np.zeros((len(x_batch) , 1))\n",
        "  labels = np.zeros((len(x_batch) , 1))\n",
        "  \n",
        "  for j in range(a_batch):\n",
        "    pred = sigmoid((w * phi(x_batch[j][0]) + b))\n",
        "    preds[j][0] = pred\n",
        "    labels[j][0] = y_batch[j]\n",
        "  # print(grads)\n",
        "  # print(np.dot(x_batch.T , np.subtract(preds , labels)))\n",
        "  grads += np.dot(x_batch.T , np.subtract(preds , labels))\n",
        "  # print(grads)\n",
        "  grads /= a_batch*1.0\n",
        "  # print(grads)\n",
        "  w -= learning_rate*grads[0][0]\n",
        "  b -= learning_rate*grads[1][0]\n",
        "\n",
        "  if final_batch : \n",
        "    x_train_ = x_train.copy()\n",
        "    x_train_ = np.concatenate((x_train_, aa), axis=1)\n",
        "    y_train_ = y_train.copy()\n",
        "    continue\n",
        "\n",
        "  x_train_ = x_train_[a_batch:]\n",
        "  y_train_ = y_train_[a_batch:]\n",
        "\n",
        "plt.figure(figsize=(10,6))\n",
        "plt.xlabel(\"iterations\")\n",
        "plt.ylabel(\"training loss\")\n",
        "plt.plot(training_round , training_loss)\n",
        "plt.show()"
      ],
      "metadata": {
        "id": "WC7QPDtKGH85",
        "colab": {
          "base_uri": "https://localhost:8080/",
          "height": 388
        },
        "outputId": "3635cd3b-b354-46db-9a4b-78889f9e1484"
      },
      "execution_count": null,
      "outputs": [
        {
          "output_type": "display_data",
          "data": {
            "text/plain": [
              "<Figure size 720x432 with 1 Axes>"
            ],
            "image/png": "[encoded data removed]"
          },
          "metadata": {
            "needs_background": "light"
          }
        }
      ]
    },
    {
      "cell_type": "code",
      "source": [
        "print(w , \"* x +\" , b)\n",
        "preds = []\n",
        "total_loss = 0.0 \n",
        "for i in range(len(x_test)):\n",
        "  pred = (sigmoid(x_test[i][0] * w + b) > 0.5)\n",
        "  preds.append(pred)\n",
        "  total_loss += -1.0*y_test[i] * np.log(sigmoid(w * phi(x_test[i][0]) + b)) - \\\n",
        "            (1 - y_test[i]) * np.log(1 - sigmoid(w * phi(x_test[i][0]) + b))\n",
        "\n",
        "preds = np.array(preds , ndmin = 1)\n",
        "print(\"Cross Entrophy: \" , total_loss)\n",
        "\n",
        "plt.figure(figsize=(10,6))\n",
        "plt.xlabel(\"x-value\")\n",
        "plt.ylabel(\"y-value\")\n",
        "plt.scatter(x_test , np.ones_like(preds) , c = preds) \n",
        "plt.scatter(x_test , np.zeros_like(y_test) , c = y_test) \n",
        "plt.show()"
      ],
      "metadata": {
        "id": "Hh7X6AtTQIIh",
        "colab": {
          "base_uri": "https://localhost:8080/",
          "height": 424
        },
        "outputId": "92de42c0-724c-4faa-eaf3-f50ec0508117"
      },
      "execution_count": null,
      "outputs": [
        {
          "output_type": "stream",
          "name": "stdout",
          "text": [
            "4.776041298265617 * x + 1.7238598687659066\n",
            "Cross Entrophy:  47.38970895952915\n"
          ]
        },
        {
          "output_type": "display_data",
          "data": {
            "text/plain": [
              "<Figure size 720x432 with 1 Axes>"
            ],
            "image/png": "[encoded data removed]"
          },
          "metadata": {
            "needs_background": "light"
          }
        }
      ]
    },
    {
      "cell_type": "markdown",
      "source": [],
      "metadata": {
        "id": "Y8Jc1xlziXRz"
      }
    }
  ],
  "metadata": {
    "kernelspec": {
      "display_name": "Python 3 (ipykernel)",
      "language": "python",
      "name": "python3"
    },
    "language_info": {
      "codemirror_mode": {
        "name": "ipython",
        "version": 3
      },
      "file_extension": ".py",
      "mimetype": "text/x-python",
      "name": "python",
      "nbconvert_exporter": "python",
      "pygments_lexer": "ipython3",
      "version": "3.10.7"
    },
    "colab": {
      "provenance": [],
      "collapsed_sections": []
    }
  },
  "nbformat": 4,
  "nbformat_minor": 0
}