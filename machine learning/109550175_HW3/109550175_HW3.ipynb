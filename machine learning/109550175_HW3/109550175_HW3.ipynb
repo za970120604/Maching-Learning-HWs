{
  "cells": [
    {
      "cell_type": "markdown",
      "metadata": {
        "id": "e9YYJzsFZC-B"
      },
      "source": [
        "## HW3: Decision Tree, AdaBoost and Random Forest\n",
        "In hw3, you need to implement decision tree, adaboost and random forest by using only numpy, then train your implemented model by the provided dataset. TA will use the on-hold test label to evaluate your model performance.\n",
        "\n",
        "Please note that only **NUMPY** can be used to implement your model, you will get no points by simply calling `sklearn.tree.DecisionTreeClassifier`"
      ]
    },
    {
      "cell_type": "markdown",
      "metadata": {
        "id": "iugBVFXmZC-D"
      },
      "source": [
        "## Question 1\n",
        "Gini Index or Entropy is often used for measuring the “best” splitting of the data. Please compute the Entropy and Gini Index of provided data. Please use the formula from [page 5 of hw3 slides](https://docs.google.com/presentation/d/1kIe_-YZdemRMmr_3xDy-l0OS2EcLgDH7Uan14tlU5KE/edit#slide=id.gd542a5ff75_0_15)"
      ]
    },
    {
      "cell_type": "code",
      "execution_count": null,
      "metadata": {
        "id": "e6h7n69sZC-D"
      },
      "outputs": [],
      "source": [
        "import numpy as np\n",
        "# Copy and paste your implementations right here to check your result\n",
        "# (Of course you can add your classes not written here)\n",
        "def gini(sequence):\n",
        "  clss = {}\n",
        "  for i in sequence:\n",
        "    if(clss.get(i) == None):\n",
        "      clss[i] = 1\n",
        "    else:\n",
        "      clss[i] += 1\n",
        "  gini = 1\n",
        "  for key in clss.keys():\n",
        "    gini -= clss[key]/len(sequence) * clss[key]/len(sequence)\n",
        "  return gini\n",
        "\n",
        "def entropy(sequence):\n",
        "  clss = {}\n",
        "  for i in sequence:\n",
        "    if(clss.get(i) == None):\n",
        "      clss[i] = 1\n",
        "    else:\n",
        "      clss[i] += 1\n",
        "  entropy = 0\n",
        "  for key in clss.keys():\n",
        "    entropy -= clss[key]/len(sequence) * np.log2(clss[key]/len(sequence))\n",
        "  return entropy"
      ]
    },
    {
      "cell_type": "code",
      "execution_count": null,
      "metadata": {
        "id": "PnkKKT5aZC-E"
      },
      "outputs": [],
      "source": [
        "# 1 = class 1,\n",
        "# 2 = class 2\n",
        "data = np.array([1,2,1,1,1,1,2,2,1,1,2])"
      ]
    },
    {
      "cell_type": "code",
      "execution_count": null,
      "metadata": {
        "colab": {
          "base_uri": "https://localhost:8080/"
        },
        "id": "A9vnQWopZC-E",
        "outputId": "4295db41-0807-4d34-fd7a-80012ab50b45"
      },
      "outputs": [
        {
          "output_type": "stream",
          "name": "stdout",
          "text": [
            "Gini of data is  0.4628099173553719\n"
          ]
        }
      ],
      "source": [
        "print(\"Gini of data is \", gini(data))"
      ]
    },
    {
      "cell_type": "code",
      "execution_count": null,
      "metadata": {
        "colab": {
          "base_uri": "https://localhost:8080/"
        },
        "id": "uSb2ypmbZC-F",
        "outputId": "f165c780-e3ae-450e-bc77-2b1d37ccd479"
      },
      "outputs": [
        {
          "output_type": "stream",
          "name": "stdout",
          "text": [
            "Entropy of data is  0.9456603046006401\n"
          ]
        }
      ],
      "source": [
        "print(\"Entropy of data is \", entropy(data))"
      ]
    },
    {
      "cell_type": "markdown",
      "metadata": {
        "id": "F--0izlyZC-F"
      },
      "source": [
        "## Load data\n",
        "It is a binary classifiation dataset that classify if price is high or not for a cell phone, the label is stored in `price_range` column."
      ]
    },
    {
      "cell_type": "code",
      "execution_count": null,
      "metadata": {
        "colab": {
          "base_uri": "https://localhost:8080/",
          "height": 253
        },
        "id": "ihI-U7t_ZC-G",
        "outputId": "441f84ff-9849-450b-fb22-a083459b8a52"
      },
      "outputs": [
        {
          "output_type": "stream",
          "name": "stdout",
          "text": [
            "(20,) (1200, 20) (1200,) (300, 20) (300,)\n"
          ]
        },
        {
          "output_type": "execute_result",
          "data": {
            "text/plain": [
              "   battery_power  blue  clock_speed  dual_sim  fc  four_g  int_memory  m_dep  \\\n",
              "0           1583     1          2.1         1  11       0          14    0.7   \n",
              "1            745     1          0.6         1   5       0          35    0.8   \n",
              "2            832     0          0.7         1   2       1          39    0.7   \n",
              "3           1175     1          1.3         0   2       0          19    0.3   \n",
              "4            695     0          0.5         0  18       1          12    0.6   \n",
              "\n",
              "   mobile_wt  n_cores  ...  px_height  px_width   ram  sc_h  sc_w  talk_time  \\\n",
              "0        148        7  ...        942      1651  1704    17    13          2   \n",
              "1        102        8  ...         89      1538  2459    14     1         16   \n",
              "2        103        4  ...        125      1504  1799     5     2         11   \n",
              "3        164        7  ...        873      1394  1944     9     4          9   \n",
              "4        196        2  ...       1649      1829  2855    16    13          7   \n",
              "\n",
              "   three_g  touch_screen  wifi  price_range  \n",
              "0        1             0     1            1  \n",
              "1        1             1     0            0  \n",
              "2        1             0     1            0  \n",
              "3        1             1     0            0  \n",
              "4        1             1     1            1  \n",
              "\n",
              "[5 rows x 21 columns]"
            ],
            "text/html": [
              "\n",
              "  <div id=\"df-0ff7c1a4-977c-460b-a64a-85ca597bad19\">\n",
              "    <div class=\"colab-df-container\">\n",
              "      <div>\n",
              "<style scoped>\n",
              "    .dataframe tbody tr th:only-of-type {\n",
              "        vertical-align: middle;\n",
              "    }\n",
              "\n",
              "    .dataframe tbody tr th {\n",
              "        vertical-align: top;\n",
              "    }\n",
              "\n",
              "    .dataframe thead th {\n",
              "        text-align: right;\n",
              "    }\n",
              "</style>\n",
              "<table border=\"1\" class=\"dataframe\">\n",
              "  <thead>\n",
              "    <tr style=\"text-align: right;\">\n",
              "      <th></th>\n",
              "      <th>battery_power</th>\n",
              "      <th>blue</th>\n",
              "      <th>clock_speed</th>\n",
              "      <th>dual_sim</th>\n",
              "      <th>fc</th>\n",
              "      <th>four_g</th>\n",
              "      <th>int_memory</th>\n",
              "      <th>m_dep</th>\n",
              "      <th>mobile_wt</th>\n",
              "      <th>n_cores</th>\n",
              "      <th>...</th>\n",
              "      <th>px_height</th>\n",
              "      <th>px_width</th>\n",
              "      <th>ram</th>\n",
              "      <th>sc_h</th>\n",
              "      <th>sc_w</th>\n",
              "      <th>talk_time</th>\n",
              "      <th>three_g</th>\n",
              "      <th>touch_screen</th>\n",
              "      <th>wifi</th>\n",
              "      <th>price_range</th>\n",
              "    </tr>\n",
              "  </thead>\n",
              "  <tbody>\n",
              "    <tr>\n",
              "      <th>0</th>\n",
              "      <td>1583</td>\n",
              "      <td>1</td>\n",
              "      <td>2.1</td>\n",
              "      <td>1</td>\n",
              "      <td>11</td>\n",
              "      <td>0</td>\n",
              "      <td>14</td>\n",
              "      <td>0.7</td>\n",
              "      <td>148</td>\n",
              "      <td>7</td>\n",
              "      <td>...</td>\n",
              "      <td>942</td>\n",
              "      <td>1651</td>\n",
              "      <td>1704</td>\n",
              "      <td>17</td>\n",
              "      <td>13</td>\n",
              "      <td>2</td>\n",
              "      <td>1</td>\n",
              "      <td>0</td>\n",
              "      <td>1</td>\n",
              "      <td>1</td>\n",
              "    </tr>\n",
              "    <tr>\n",
              "      <th>1</th>\n",
              "      <td>745</td>\n",
              "      <td>1</td>\n",
              "      <td>0.6</td>\n",
              "      <td>1</td>\n",
              "      <td>5</td>\n",
              "      <td>0</td>\n",
              "      <td>35</td>\n",
              "      <td>0.8</td>\n",
              "      <td>102</td>\n",
              "      <td>8</td>\n",
              "      <td>...</td>\n",
              "      <td>89</td>\n",
              "      <td>1538</td>\n",
              "      <td>2459</td>\n",
              "      <td>14</td>\n",
              "      <td>1</td>\n",
              "      <td>16</td>\n",
              "      <td>1</td>\n",
              "      <td>1</td>\n",
              "      <td>0</td>\n",
              "      <td>0</td>\n",
              "    </tr>\n",
              "    <tr>\n",
              "      <th>2</th>\n",
              "      <td>832</td>\n",
              "      <td>0</td>\n",
              "      <td>0.7</td>\n",
              "      <td>1</td>\n",
              "      <td>2</td>\n",
              "      <td>1</td>\n",
              "      <td>39</td>\n",
              "      <td>0.7</td>\n",
              "      <td>103</td>\n",
              "      <td>4</td>\n",
              "      <td>...</td>\n",
              "      <td>125</td>\n",
              "      <td>1504</td>\n",
              "      <td>1799</td>\n",
              "      <td>5</td>\n",
              "      <td>2</td>\n",
              "      <td>11</td>\n",
              "      <td>1</td>\n",
              "      <td>0</td>\n",
              "      <td>1</td>\n",
              "      <td>0</td>\n",
              "    </tr>\n",
              "    <tr>\n",
              "      <th>3</th>\n",
              "      <td>1175</td>\n",
              "      <td>1</td>\n",
              "      <td>1.3</td>\n",
              "      <td>0</td>\n",
              "      <td>2</td>\n",
              "      <td>0</td>\n",
              "      <td>19</td>\n",
              "      <td>0.3</td>\n",
              "      <td>164</td>\n",
              "      <td>7</td>\n",
              "      <td>...</td>\n",
              "      <td>873</td>\n",
              "      <td>1394</td>\n",
              "      <td>1944</td>\n",
              "      <td>9</td>\n",
              "      <td>4</td>\n",
              "      <td>9</td>\n",
              "      <td>1</td>\n",
              "      <td>1</td>\n",
              "      <td>0</td>\n",
              "      <td>0</td>\n",
              "    </tr>\n",
              "    <tr>\n",
              "      <th>4</th>\n",
              "      <td>695</td>\n",
              "      <td>0</td>\n",
              "      <td>0.5</td>\n",
              "      <td>0</td>\n",
              "      <td>18</td>\n",
              "      <td>1</td>\n",
              "      <td>12</td>\n",
              "      <td>0.6</td>\n",
              "      <td>196</td>\n",
              "      <td>2</td>\n",
              "      <td>...</td>\n",
              "      <td>1649</td>\n",
              "      <td>1829</td>\n",
              "      <td>2855</td>\n",
              "      <td>16</td>\n",
              "      <td>13</td>\n",
              "      <td>7</td>\n",
              "      <td>1</td>\n",
              "      <td>1</td>\n",
              "      <td>1</td>\n",
              "      <td>1</td>\n",
              "    </tr>\n",
              "  </tbody>\n",
              "</table>\n",
              "<p>5 rows × 21 columns</p>\n",
              "</div>\n",
              "      <button class=\"colab-df-convert\" onclick=\"convertToInteractive('df-0ff7c1a4-977c-460b-a64a-85ca597bad19')\"\n",
              "              title=\"Convert this dataframe to an interactive table.\"\n",
              "              style=\"display:none;\">\n",
              "        \n",
              "  <svg xmlns=\"http://www.w3.org/2000/svg\" height=\"24px\"viewBox=\"0 0 24 24\"\n",
              "       width=\"24px\">\n",
              "    <path d=\"M0 0h24v24H0V0z\" fill=\"none\"/>\n",
              "    <path d=\"M18.56 5.44l.94 2.06.94-2.06 2.06-.94-2.06-.94-.94-2.06-.94 2.06-2.06.94zm-11 1L8.5 8.5l.94-2.06 2.06-.94-2.06-.94L8.5 2.5l-.94 2.06-2.06.94zm10 10l.94 2.06.94-2.06 2.06-.94-2.06-.94-.94-2.06-.94 2.06-2.06.94z\"/><path d=\"M17.41 7.96l-1.37-1.37c-.4-.4-.92-.59-1.43-.59-.52 0-1.04.2-1.43.59L10.3 9.45l-7.72 7.72c-.78.78-.78 2.05 0 2.83L4 21.41c.39.39.9.59 1.41.59.51 0 1.02-.2 1.41-.59l7.78-7.78 2.81-2.81c.8-.78.8-2.07 0-2.86zM5.41 20L4 18.59l7.72-7.72 1.47 1.35L5.41 20z\"/>\n",
              "  </svg>\n",
              "      </button>\n",
              "      \n",
              "  <style>\n",
              "    .colab-df-container {\n",
              "      display:flex;\n",
              "      flex-wrap:wrap;\n",
              "      gap: 12px;\n",
              "    }\n",
              "\n",
              "    .colab-df-convert {\n",
              "      background-color: #E8F0FE;\n",
              "      border: none;\n",
              "      border-radius: 50%;\n",
              "      cursor: pointer;\n",
              "      display: none;\n",
              "      fill: #1967D2;\n",
              "      height: 32px;\n",
              "      padding: 0 0 0 0;\n",
              "      width: 32px;\n",
              "    }\n",
              "\n",
              "    .colab-df-convert:hover {\n",
              "      background-color: #E2EBFA;\n",
              "      box-shadow: 0px 1px 2px rgba(60, 64, 67, 0.3), 0px 1px 3px 1px rgba(60, 64, 67, 0.15);\n",
              "      fill: #174EA6;\n",
              "    }\n",
              "\n",
              "    [theme=dark] .colab-df-convert {\n",
              "      background-color: #3B4455;\n",
              "      fill: #D2E3FC;\n",
              "    }\n",
              "\n",
              "    [theme=dark] .colab-df-convert:hover {\n",
              "      background-color: #434B5C;\n",
              "      box-shadow: 0px 1px 3px 1px rgba(0, 0, 0, 0.15);\n",
              "      filter: drop-shadow(0px 1px 2px rgba(0, 0, 0, 0.3));\n",
              "      fill: #FFFFFF;\n",
              "    }\n",
              "  </style>\n",
              "\n",
              "      <script>\n",
              "        const buttonEl =\n",
              "          document.querySelector('#df-0ff7c1a4-977c-460b-a64a-85ca597bad19 button.colab-df-convert');\n",
              "        buttonEl.style.display =\n",
              "          google.colab.kernel.accessAllowed ? 'block' : 'none';\n",
              "\n",
              "        async function convertToInteractive(key) {\n",
              "          const element = document.querySelector('#df-0ff7c1a4-977c-460b-a64a-85ca597bad19');\n",
              "          const dataTable =\n",
              "            await google.colab.kernel.invokeFunction('convertToInteractive',\n",
              "                                                     [key], {});\n",
              "          if (!dataTable) return;\n",
              "\n",
              "          const docLinkHtml = 'Like what you see? Visit the ' +\n",
              "            '<a target=\"_blank\" href=https://colab.research.google.com/notebooks/data_table.ipynb>data table notebook</a>'\n",
              "            + ' to learn more about interactive tables.';\n",
              "          element.innerHTML = '';\n",
              "          dataTable['output_type'] = 'display_data';\n",
              "          await google.colab.output.renderOutput(dataTable, element);\n",
              "          const docLink = document.createElement('div');\n",
              "          docLink.innerHTML = docLinkHtml;\n",
              "          element.appendChild(docLink);\n",
              "        }\n",
              "      </script>\n",
              "    </div>\n",
              "  </div>\n",
              "  "
            ]
          },
          "metadata": {},
          "execution_count": 5
        }
      ],
      "source": [
        "import pandas as pd\n",
        "# %pip install pandas-stubs\n",
        "train_df = pd.read_csv('https://raw.githubusercontent.com/NCTU-VRDL/CS_CS20024/main/HW3/train.csv')\n",
        "val_df = pd.read_csv('https://raw.githubusercontent.com/NCTU-VRDL/CS_CS20024/main/HW3/val.csv')\n",
        "\n",
        "X = train_df.drop(labels=[\"price_range\"], axis=\"columns\")\n",
        "\n",
        "feature_names = X.columns.values\n",
        "X = X.values\n",
        "Y = train_df['price_range'].values\n",
        "\n",
        "X_test = val_df.drop(labels=[\"price_range\"], axis=\"columns\")\n",
        "X_test = X_test.values\n",
        "Y_test = val_df['price_range'].values\n",
        "print(feature_names.shape , X.shape , Y.shape , X_test.shape , Y_test.shape)\n",
        "train_df.head()"
      ]
    },
    {
      "cell_type": "markdown",
      "metadata": {
        "id": "0HNhCuWMZC-G"
      },
      "source": [
        "## Question 2\n",
        "Implement the Decision Tree algorithm (CART, Classification and Regression Trees) and trained the model by the given arguments, and print the accuracy score on the validation data. You should implement two arguments for the Decision Tree algorithm\n",
        "1. **criterion**: The function to measure the quality of a split. Your model should support `gini` for the Gini impurity and `entropy` for the information gain. \n",
        "2. **max_depth**: The maximum depth of the tree. If `max_depth=None`, then nodes are expanded until all leaves are pure. `max_depth=1` equals to split data once\n"
      ]
    },
    {
      "cell_type": "code",
      "source": [
        "import random\n",
        "def unique_vals(rows_till_now , col , interpolated = False): # rows till now : row id till now , a list of ids\n",
        "  global X\n",
        "  uniqs = set()                               # x_data : a list  ; col : a number\n",
        "  if not interpolated:\n",
        "    for row in rows_till_now:\n",
        "      uniqs.add(X[row][col])\n",
        "  else:\n",
        "    uniqs_ = {}\n",
        "    for row in rows_till_now:\n",
        "      val = X[row][col]\n",
        "      if uniqs_.get(val):continue\n",
        "      else:uniqs_[val] = 1\n",
        "    uniqss_ = sorted(uniqs_.keys())\n",
        "    for i in range(len(uniqss_)):\n",
        "      if i == 0 :\n",
        "        uniqs.add(uniqss_[i])\n",
        "      else :\n",
        "        uniqs.add( (uniqss_[i] + uniqss_[i-1]) / 2.0 )\n",
        "  return list(uniqs)\n",
        "\n",
        "def match(input , col , threshold , is_binary): # 對於第col個的feature , 檢驗input值是否符合threshold , 丟入col的原因是為了檢察是不是binary column(either 0 or 1)\n",
        "  if not is_binary:\n",
        "    if input >= threshold: \n",
        "      return True\n",
        "    else:\n",
        "      return False\n",
        "  else:\n",
        "    if input == threshold:\n",
        "      return True\n",
        "    else:\n",
        "      return False \n",
        "\n",
        "def partition(rows_till_now , labels_till_now , col , criteria , is_binary): # 根據資料集中的某一特定col的值是否>=criteria(如果是binary col , >= 變成 ==)來拆分資料集(rows_till_now , labels_till_now)\n",
        "  global X\n",
        "  true_rows = []\n",
        "  false_rows = []\n",
        "\n",
        "  true_labels = []\n",
        "  false_labels = []\n",
        "\n",
        "  for i , row in enumerate(rows_till_now):\n",
        "    if match(X[row][col] , col , criteria , is_binary) :\n",
        "      true_rows.append(row)\n",
        "      true_labels.append(labels_till_now[i])\n",
        "    else :\n",
        "      false_rows.append(row)\n",
        "      false_labels.append(labels_till_now[i])\n",
        "  return true_rows , true_labels , false_rows , false_labels \n",
        "\n",
        "def information_gain(true_rows , true_labels , false_rows , false_labels , current_impurity , criterion): # 根據拆分結果算information gain , 要傳criterion是因為不同棵樹可能有不同的評斷impurity的標準\n",
        "  weight = len(true_rows) / (len(true_rows) + len(false_rows)) * 1.0\n",
        "  info_gain = current_impurity\n",
        "  if criterion == 'gini' :\n",
        "    info_gain -= weight * gini(true_labels) + (1 - weight) * gini(false_labels)\n",
        "  else :\n",
        "    info_gain -= weight * entropy(true_labels) + (1 - weight) * entropy(false_labels)\n",
        "\n",
        "  return info_gain\n",
        "\n",
        "def find_best_split(rows_till_now , labels_till_now , criterion , total_features , random_): # 根據此棵樹給定的impurity criterion , 再資料集中各個col選出一個最好的作為拆分準則\n",
        "  features = []\n",
        "  if random_ == total_features:\n",
        "    for i in range(total_features):\n",
        "      features.append(i)\n",
        "  else :\n",
        "    ll = []\n",
        "    for i in range(total_features):\n",
        "      ll.append(i)\n",
        "    picked = random.sample(ll , random_)\n",
        "    features = picked\n",
        "\n",
        "  current_impurity = 0.0\n",
        "  \n",
        "  if criterion == 'gini':\n",
        "    current_impurity = gini(labels_till_now)\n",
        "  else:\n",
        "    current_impurity = entropy(labels_till_now)\n",
        "\n",
        "  best_gain = 0 \n",
        "  best_feature_id = 0\n",
        "  best_value = 0\n",
        "  best_isbinary = None\n",
        "\n",
        "  for f in features:  # iterate through every feature , i表試著拿第幾個feature做拆分標準\n",
        "    # print(features[i])\n",
        "    vals = unique_vals(rows_till_now , f , False) # 當前這份資料集中 , 第i個feature的所有特殊元素\n",
        "    is_binary = False\n",
        "    if len(vals) == 2:\n",
        "      is_binary = True\n",
        "    for val in vals:\n",
        "      criteria = val\n",
        "      true_rows, true_labels , false_rows , false_labels = partition(rows_till_now , labels_till_now , f , criteria , is_binary)\n",
        "      # print(len(true_rows) , len(false_rows))\n",
        "      if len(true_rows) == 0 or len(false_rows) == 0: # 無用的拆分 , 意即根本沒辦法分群的一個條件組合\n",
        "        # print(f\"split using {features[i]} with {criteria} is unuseful\")\n",
        "        continue\n",
        "      gain = information_gain(true_rows , true_labels , false_rows , false_labels , current_impurity , criterion) \n",
        "      if gain >= best_gain:\n",
        "        best_gain = gain\n",
        "        best_feature_id = f\n",
        "        best_value = criteria\n",
        "        best_isbinary = is_binary\n",
        "  return best_feature_id , best_value , best_gain , best_isbinary\n",
        "  \n",
        "def is_leaf(depth , max_depth , best_gain , expected = None): \n",
        "  if best_gain == 0:\n",
        "    return True\n",
        "  if expected != None:\n",
        "    if best_gain < expected:\n",
        "      return True\n",
        "  if max_depth != None:\n",
        "    if depth == max_depth:\n",
        "      return True\n",
        "  return False"
      ],
      "metadata": {
        "id": "qd-LBVioltnp"
      },
      "execution_count": null,
      "outputs": []
    },
    {
      "cell_type": "code",
      "source": [
        "class Decision_Node():\n",
        "  def __init__(self , question_col , threshold , true_branch , false_branch , depth , isbinary):\n",
        "      self.question_col = question_col\n",
        "      self.threshold = threshold\n",
        "      self.true_branch = true_branch\n",
        "      self.false_branch = false_branch\n",
        "      self.depth = depth\n",
        "      self.isbinary = isbinary\n",
        "\n",
        "class Leaf_Node():\n",
        "  def __init__(self , zero_prob , one_prob , depth):\n",
        "      self.zero_prob = zero_prob\n",
        "      self.one_prob = one_prob\n",
        "      self.depth = depth"
      ],
      "metadata": {
        "id": "OcXmiMokanwL"
      },
      "execution_count": null,
      "outputs": []
    },
    {
      "cell_type": "code",
      "execution_count": null,
      "metadata": {
        "id": "a7uyVrLRZC-G"
      },
      "outputs": [],
      "source": [
        "class DecisionTree():\n",
        "  def __init__(self, criterion='gini', max_depth = None , random_ = 0):\n",
        "      self.criterion = criterion\n",
        "      self.max_depth = max_depth\n",
        "      self.random_ = random_\n",
        "      \n",
        "      self.root_node = None\n",
        "      self.feature_importance = {}\n",
        "\n",
        "  def fit(self, x_data, y_data): \n",
        "    global X\n",
        "    global Y\n",
        "    X = x_data\n",
        "    Y = y_data\n",
        "    rows_till_now = [i for i in range(len(x_data))]\n",
        "    labels_till_now = y_data\n",
        "    if self.random_ == 0:\n",
        "      self.random_ = x_data.shape[1]\n",
        "    self.root_node = self.build_tree(rows_till_now , labels_till_now , 0)\n",
        "         \n",
        "  def predict(self, x_data):\n",
        "      predictions = []\n",
        "      for i in range(len(x_data)):\n",
        "        pred = self.traverse(self.root_node , x_data[i])\n",
        "        predictions.append(pred)\n",
        "      return np.array(predictions)\n",
        "\n",
        "  def build_tree(self , rows_till_now , labels_till_now , depth) :\n",
        "      global X\n",
        "      best_feature_id , best_value , best_gain , best_isbinary = find_best_split(\n",
        "      rows_till_now , labels_till_now , self.criterion , X.shape[1] , self.random_)\n",
        "      if is_leaf(depth , self.max_depth , best_gain) : # if it is a leaf node condition , create a leaf_node and then return its reference to its parent\n",
        "        is_zero = 0\n",
        "        is_one = 0\n",
        "        for label in labels_till_now:\n",
        "          if label : is_one += 1\n",
        "          else : is_zero += 1\n",
        "        zero_prob = is_zero/(is_zero + is_one)*1.0\n",
        "        one_prob = 1 - zero_prob\n",
        "        return Leaf_Node(zero_prob , one_prob , depth)\n",
        "      \n",
        "      true_rows , true_labels , false_rows , false_labels = partition(rows_till_now , labels_till_now , best_feature_id , best_value , best_isbinary) \n",
        "      true_branch = self.build_tree(true_rows , true_labels , depth+1) # extend true branch\n",
        "      false_branch = self.build_tree(false_rows , false_labels , depth+1) # extend false branch\n",
        "      return Decision_Node(best_feature_id , best_value , true_branch, false_branch , depth , best_isbinary) # create a decision_node\n",
        "    \n",
        "  def traverse(self , cur_node , a_row_x_data):  # determine a row of data belongs to where\n",
        "      if isinstance(cur_node , Leaf_Node): \n",
        "        return int(cur_node.one_prob > cur_node.zero_prob)\n",
        "      \n",
        "      question_col = cur_node.question_col \n",
        "      threshold = cur_node.threshold\n",
        "      input = a_row_x_data[question_col]\n",
        "      if match(input , question_col , threshold , cur_node.isbinary):\n",
        "        return self.traverse(cur_node.true_branch , a_row_x_data)\n",
        "      else:\n",
        "        return self.traverse(cur_node.false_branch , a_row_x_data)\n",
        "\n",
        "  def DFS(self , cur_node):\n",
        "    if isinstance(cur_node , Leaf_Node) :\n",
        "      return \n",
        "    if self.feature_importance.get(cur_node.question_col) == None:\n",
        "      self.feature_importance[cur_node.question_col] = 1\n",
        "    else:\n",
        "      self.feature_importance[cur_node.question_col] += 1\n",
        "    self.DFS(cur_node.true_branch)\n",
        "    self.DFS(cur_node.false_branch)\n",
        "\n",
        "  def print_tree(self , node, spacing=\"\"):\n",
        "    # Base case: we've reached a leaf\n",
        "    if isinstance(node, Leaf_Node):\n",
        "        print (spacing +\"is leaf\")\n",
        "        return\n",
        "\n",
        "    # Print the question at this node\n",
        "    print (spacing + str(node.question_col) + ' ' + str(node.threshold) , node.depth)\n",
        "\n",
        "    # Call this function recursively on the true branch\n",
        "    print (spacing + '--> True:')\n",
        "    self.print_tree(node.true_branch, spacing + \"  \")\n",
        "\n",
        "    # Call this function recursively on the false branch\n",
        "    print (spacing + '--> False:')\n",
        "    self.print_tree(node.false_branch, spacing + \"  \")"
      ]
    },
    {
      "cell_type": "markdown",
      "metadata": {
        "id": "fj3zhGZTZC-G"
      },
      "source": [
        "### Question 2.1\n",
        "Using `criterion=gini`, showing the accuracy score of validation data by `max_depth=3` and `max_depth=10`, respectively.\n"
      ]
    },
    {
      "cell_type": "code",
      "execution_count": null,
      "metadata": {
        "id": "R2G6RYb2ZC-H",
        "colab": {
          "base_uri": "https://localhost:8080/"
        },
        "outputId": "057859df-5072-408f-925e-1db4ab2d5594"
      },
      "outputs": [
        {
          "output_type": "stream",
          "name": "stdout",
          "text": [
            "Accuracy using clf_depth3 on validation data :  0.92\n",
            "Accuracy using clf_depth10 on validation data :  0.9433333333333334\n"
          ]
        }
      ],
      "source": [
        "from sklearn.metrics import accuracy_score\n",
        "\n",
        "from sklearn import tree\n",
        "\n",
        "clf_depth3 = DecisionTree(criterion='gini', max_depth=3)\n",
        "clf_depth10 = DecisionTree(criterion='gini', max_depth=10)\n",
        "\n",
        "clf_depth3.fit(X , Y)\n",
        "predictions = clf_depth3.predict(X_test)\n",
        "print(\"Accuracy using clf_depth3 on validation data : \" , accuracy_score(Y_test , predictions))\n",
        "\n",
        "# clf = tree.DecisionTreeClassifier(max_depth = 3)\n",
        "# clf = clf.fit(X, Y)\n",
        "# predictions = clf.predict(X_test)\n",
        "# print(\"Accuracy using sklearn clf_depth3 on validation data : \" , accuracy_score(Y_test , predictions))\n",
        "\n",
        "clf_depth10.fit(X , Y)\n",
        "predictions = clf_depth10.predict(X_test)\n",
        "print(\"Accuracy using clf_depth10 on validation data : \" , accuracy_score(Y_test , predictions))\n",
        "\n",
        "# clf = tree.DecisionTreeClassifier(max_depth = 10)\n",
        "# clf = clf.fit(X, Y)\n",
        "# predictions = clf.predict(X_test)\n",
        "# print(\"Accuracy using sklearn clf_depth10 on validation data : \" , accuracy_score(Y_test , predictions))\n"
      ]
    },
    {
      "cell_type": "markdown",
      "metadata": {
        "id": "dqKk4a2JZC-H"
      },
      "source": [
        "### Question 2.2\n",
        "Using `max_depth=3`, showing the accuracy score of validation data by `criterion=gini` and `criterion=entropy`, respectively.\n"
      ]
    },
    {
      "cell_type": "code",
      "execution_count": null,
      "metadata": {
        "id": "SrettMbwZC-H",
        "colab": {
          "base_uri": "https://localhost:8080/"
        },
        "outputId": "6fe1acd6-3235-429a-cb60-f1a08a5df9f1"
      },
      "outputs": [
        {
          "output_type": "stream",
          "name": "stdout",
          "text": [
            "Accuracy using clf_gini on validation data :  0.92\n",
            "Accuracy using clf_entropy on validation data :  0.9333333333333333\n"
          ]
        }
      ],
      "source": [
        "clf_gini = DecisionTree(criterion='gini', max_depth=3)\n",
        "clf_entropy = DecisionTree(criterion='entropy', max_depth=3)\n",
        "\n",
        "clf_gini.fit(X , Y)\n",
        "predictions = clf_gini.predict(X_test)\n",
        "print(\"Accuracy using clf_gini on validation data : \" , accuracy_score(Y_test , predictions))\n",
        "\n",
        "# clf = tree.DecisionTreeClassifier(criterion = 'gini' , max_depth = 3)\n",
        "# clf = clf.fit(X, Y)\n",
        "# predictions = clf.predict(X_test)\n",
        "# print(\"Accuracy using sklearn clf_gini on validation data : \" , accuracy_score(Y_test , predictions))\n",
        "\n",
        "clf_entropy.fit(X , Y)\n",
        "predictions = clf_entropy.predict(X_test)\n",
        "print(\"Accuracy using clf_entropy on validation data : \" , accuracy_score(Y_test , predictions))\n",
        "\n",
        "# clf = tree.DecisionTreeClassifier(criterion = 'entropy' , max_depth = 3)\n",
        "# clf = clf.fit(X, Y)\n",
        "# predictions = clf.predict(X_test)\n",
        "# print(\"Accuracy using sklearn clf_entropy on validation data : \" , accuracy_score(Y_test , predictions))\n"
      ]
    },
    {
      "cell_type": "markdown",
      "metadata": {
        "id": "nAAomqWmZC-H"
      },
      "source": [
        "- Note: Your decisition tree scores should over **0.9**. It may suffer from overfitting, if so, you can tune the hyperparameter such as `max_depth`\n",
        "- Note: You should get the same results when re-building the model with the same arguments,  no need to prune the trees\n",
        "- Hint: You can use the recursive method to build the nodes\n"
      ]
    },
    {
      "cell_type": "markdown",
      "metadata": {
        "id": "EufzA5ssZC-I"
      },
      "source": [
        "## Question 3\n",
        "Plot the [feature importance](https://sefiks.com/2020/04/06/feature-importance-in-decision-trees/) of your Decision Tree model. You can get the feature importance by counting the feature used for splitting data.\n",
        "\n",
        "- You can simply plot the **counts of feature used** for building tree without normalize the importance. Take the figure below as example, outlook feature has been used for splitting for almost 50 times. Therefore, it has the largest importance\n",
        "\n",
        "![image](https://i2.wp.com/sefiks.com/wp-content/uploads/2020/04/c45-fi-results.jpg?w=481&ssl=1)"
      ]
    },
    {
      "cell_type": "code",
      "source": [
        "import numpy as np\n",
        "import matplotlib.pyplot as plt\n",
        "\n",
        "clf_depth10.DFS(clf_depth10.root_node)\n",
        "fimportance = clf_depth10.feature_importance\n",
        "# print(fimportance)\n",
        "features = list(fimportance.keys())\n",
        "feature_names_ = []\n",
        "for i in range(len(features)):\n",
        "  feature_names_.append(feature_names[features[i]])\n",
        "time = list(fimportance.values())\n",
        "plt.barh(feature_names_ , time)\n",
        "plt.ylabel('Feature')\n",
        "plt.xlabel('number of time to use this feature')\n",
        "plt.title('Feature Importance')\n",
        "plt.show()"
      ],
      "metadata": {
        "id": "U8qrNSQzjHgI",
        "colab": {
          "base_uri": "https://localhost:8080/",
          "height": 295
        },
        "outputId": "18d63d5b-bfee-484b-fdd6-28f6e4cd45b9"
      },
      "execution_count": null,
      "outputs": [
        {
          "output_type": "display_data",
          "data": {
            "text/plain": [
              "<Figure size 432x288 with 1 Axes>"
            ],
            "image/png": "[encoded data removed]"
          },
          "metadata": {
            "needs_background": "light"
          }
        }
      ]
    },
    {
      "cell_type": "markdown",
      "metadata": {
        "id": "Pqqkf3JeZC-I"
      },
      "source": [
        "## Question 4\n",
        "implement the AdaBooest algorithm by using the CART you just implemented from question 2 as base learner. You should implement one arguments for the AdaBooest.\n",
        "1. **n_estimators**: The maximum number of estimators at which boosting is terminated"
      ]
    },
    {
      "cell_type": "code",
      "execution_count": null,
      "metadata": {
        "id": "H9udNdJ4ZC-I"
      },
      "outputs": [],
      "source": [
        "import math\n",
        "class AdaBoost():\n",
        "    def __init__(self, n_estimators , max_depth = None):\n",
        "        self.n_estimators = n_estimators\n",
        "        self.classifier_weight = []\n",
        "        self.each_tree_max_depth = max_depth\n",
        "        self.roots = []\n",
        "    \n",
        "    def fit(self, x_data, y_data):\n",
        "      global X\n",
        "      global Y\n",
        "\n",
        "      X = x_data\n",
        "      Y = y_data\n",
        "\n",
        "      x_origin = X\n",
        "      y_origin = Y\n",
        "\n",
        "      data_weight_ = []\n",
        "      for i in range(len(x_data)):\n",
        "        data_weight_.append(1.0 * 1/x_data.shape[0])\n",
        "    \n",
        "      for t in range(self.n_estimators):\n",
        "        # print(prev == data_weight_)\n",
        "        best_weak_classifier = DecisionTree(max_depth = self.each_tree_max_depth)\n",
        "        chosen_rows = np.random.choice(len(x_data), len(x_data), p = data_weight_)\n",
        "        xx_data = []\n",
        "        yy_data = []\n",
        "        for row in chosen_rows:\n",
        "          xx_data.append(x_data[row])\n",
        "          yy_data.append(y_data[row])\n",
        "\n",
        "        best_weak_classifier.fit(np.array(xx_data) , yy_data)\n",
        "        self.roots.append(best_weak_classifier.root_node)\n",
        "        # print(best_weak_classifier.root_node.question , best_weak_classifier.root_node.threshold)\n",
        "        predictions = best_weak_classifier.predict(x_data)\n",
        "        weighted_err = 0\n",
        "        for i , pred in enumerate(predictions):\n",
        "          if pred != y_data[i]:\n",
        "            weighted_err += data_weight_[i]\n",
        "        self.classifier_weight.append( 0.5 * np.log( (1-weighted_err) / (weighted_err + 1e-9)) )\n",
        "        \n",
        "\n",
        "        for i in range(len(data_weight_)):\n",
        "          if y_data[i] == predictions[i]:\n",
        "            data_weight_[i] *= math.exp(-1.0 * self.classifier_weight[t])\n",
        "          else :\n",
        "            data_weight_[i] *= math.exp(1.0 * self.classifier_weight[t])\n",
        "        sum_ = sum(data_weight_)\n",
        "        for i , w in enumerate(data_weight_):\n",
        "          data_weight_[i] = 1.0 * w/sum_\n",
        "\n",
        "        X = x_origin\n",
        "        Y = y_origin\n",
        "                \n",
        "\n",
        "    def traverse(self , cur_node , a_row_x_data):  # determine a row of data belongs to where\n",
        "      if isinstance(cur_node , Leaf_Node): \n",
        "        return int(cur_node.one_prob >= cur_node.zero_prob)\n",
        "      \n",
        "      question_col = cur_node.question_col \n",
        "      threshold = cur_node.threshold\n",
        "      input = a_row_x_data[question_col]\n",
        "      if match(input , question_col , threshold , cur_node.isbinary):\n",
        "        return self.traverse(cur_node.true_branch , a_row_x_data)\n",
        "      else:\n",
        "        return self.traverse(cur_node.false_branch , a_row_x_data)\n",
        "\n",
        "    def predict(self, x_data):\n",
        "      predictions = []\n",
        "      for i in range(x_data.shape[0]):\n",
        "        Hofx = 0.0\n",
        "        for t , root in enumerate(self.roots):\n",
        "          pred = self.traverse(root , x_data[i])  #定義label 0 給定 -1 ; label 1 給定 +1\n",
        "          if pred : \n",
        "            Hofx += 1.0 * self.classifier_weight[t]\n",
        "          else : \n",
        "            Hofx += -1.0 * self.classifier_weight[t]\n",
        "        predictions.append(int(Hofx > 0.0))\n",
        "        # print(f\"Total {self.n_estimators} , {is_0} says 0 ; {is_1} says 1 , \")\n",
        "      return np.array(predictions)"
      ]
    },
    {
      "cell_type": "markdown",
      "metadata": {
        "id": "w_exMjjJZC-I"
      },
      "source": [
        "### Question 4.1\n",
        "Show the accuracy score of validation data by `n_estimators=10` and `n_estimators=100`, respectively.\n"
      ]
    },
    {
      "cell_type": "code",
      "execution_count": null,
      "metadata": {
        "id": "fNgzAZr2ZC-I",
        "colab": {
          "base_uri": "https://localhost:8080/"
        },
        "outputId": "eac28c5d-1402-40eb-ad58-c542d5963cec"
      },
      "outputs": [
        {
          "output_type": "stream",
          "name": "stdout",
          "text": [
            "Accuracy using clf_adaboost10 on validation data :  0.91\n",
            "Accuracy using clf_adaboost100 on validation data :  0.9666666666666667\n"
          ]
        }
      ],
      "source": [
        "from sklearn.metrics import accuracy_score\n",
        "from sklearn.ensemble import AdaBoostClassifier\n",
        "\n",
        "clf_adaboost10 = AdaBoost(n_estimators = 10 , max_depth = 1)\n",
        "clf_adaboost100 = AdaBoost(n_estimators = 100 , max_depth = 1)\n",
        "\n",
        "clf_adaboost10.fit(X , Y)\n",
        "predictions = clf_adaboost10.predict(X_test)\n",
        "print(\"Accuracy using clf_adaboost10 on validation data : \" , accuracy_score(Y_test , predictions))\n",
        "\n",
        "\n",
        "# clf = AdaBoostClassifier(n_estimators=10)\n",
        "# clf.fit(X , Y)\n",
        "# predictions = clf.predict(X_test)\n",
        "# print(\"Accuracy using sklearn clf_adaboost10 on validation data : \" , accuracy_score(Y_test , predictions))\n",
        "\n",
        "clf_adaboost100.fit(X , Y)\n",
        "predictions = clf_adaboost100.predict(X_test)\n",
        "print(\"Accuracy using clf_adaboost100 on validation data : \" , accuracy_score(Y_test , predictions))\n",
        "\n",
        "# clf = AdaBoostClassifier(n_estimators=100)\n",
        "# clf.fit(X , Y)\n",
        "# predictions = clf.predict(X_test)\n",
        "# print(\"Accuracy using sklearn clf_adaboost100 on validation data : \" , accuracy_score(Y_test , predictions))"
      ]
    },
    {
      "cell_type": "markdown",
      "metadata": {
        "id": "R60RPEzSZC-I"
      },
      "source": [
        "## Question 5\n",
        "implement the Random Forest algorithm by using the CART you just implemented from question 2. You should implement three arguments for the Random Forest.\n",
        "\n",
        "1. **n_estimators**: The number of trees in the forest. \n",
        "2. **max_features**: The number of random select features to consider when looking for the best split\n",
        "3. **bootstrap**: Whether bootstrap samples are used when building tree\n"
      ]
    },
    {
      "cell_type": "code",
      "execution_count": null,
      "metadata": {
        "id": "E8yozoyjZC-J"
      },
      "outputs": [],
      "source": [
        "import random\n",
        "class RandomForest():\n",
        "    def __init__(self, n_estimators, max_features, boostrap = True, criterion='gini', max_depth=None):\n",
        "        self.n_estimators = n_estimators\n",
        "        self.max_features = int(max_features)\n",
        "        self.boostrap = boostrap\n",
        "        self.criterion = criterion\n",
        "        self.each_tree_max_depth = max_depth\n",
        "        self.roots = []\n",
        "\n",
        "    def Bagging(self , x_data , y_data):\n",
        "      if not self.boostrap:\n",
        "        return np.array(x_data) , np.array(y_data)\n",
        "      bag_x_data = []\n",
        "      bag_y_data = []\n",
        "      for i in range(len(x_data)):\n",
        "        picked = random.randint(0,len(x_data)-1)\n",
        "        bag_x_data.append(x_data[picked])\n",
        "        bag_y_data.append(y_data[picked])\n",
        "      return np.array(bag_x_data) , np.array(bag_y_data)\n",
        "    \n",
        "    def Create_decision_tree(self , x_data , y_data):\n",
        "      clf = DecisionTree(criterion=self.criterion , max_depth = self.each_tree_max_depth , random_ = self.max_features)\n",
        "      clf.fit(x_data , y_data)\n",
        "      self.roots.append(clf.root_node)\n",
        "\n",
        "    def fit(self, x_data, y_data):\n",
        "        global X\n",
        "        global Y\n",
        "\n",
        "        X = x_data\n",
        "        Y = y_data\n",
        "\n",
        "        x_origin = X\n",
        "        y_origin = Y\n",
        "\n",
        "        for time in range(self.n_estimators):\n",
        "          ax_data , ay_data = self.Bagging(x_data , y_data)\n",
        "          self.Create_decision_tree(ax_data , ay_data)\n",
        "          X = x_origin\n",
        "          Y = y_origin\n",
        "        \n",
        "    def predict(self, x_data):\n",
        "        predictions = []\n",
        "        for i in range(len(x_data)):\n",
        "          is_one = 0\n",
        "          is_zero = 0\n",
        "          for root in self.roots:\n",
        "            pred = self.traverse(root , x_data[i])\n",
        "            if pred : is_one+=1\n",
        "            else : is_zero+=1\n",
        "          predictions.append(int(is_one > is_zero))\n",
        "        return np.array(predictions)\n",
        "\n",
        "    def traverse(self , cur_node , a_row_x_data):  # determine a row of data belongs to where\n",
        "      if isinstance(cur_node , Leaf_Node): \n",
        "        return int(cur_node.one_prob > cur_node.zero_prob)\n",
        "      \n",
        "      question_col = cur_node.question_col \n",
        "      threshold = cur_node.threshold\n",
        "      input = a_row_x_data[question_col]\n",
        "      if match(input , question_col , threshold , cur_node.isbinary):\n",
        "        return self.traverse(cur_node.true_branch , a_row_x_data)\n",
        "      else:\n",
        "        return self.traverse(cur_node.false_branch , a_row_x_data)"
      ]
    },
    {
      "cell_type": "markdown",
      "metadata": {
        "id": "ZA_fLssCZC-J"
      },
      "source": [
        "### Question 5.1\n",
        "Using `criterion=gini`, `max_depth=None`, `max_features=sqrt(n_features)`, showing the accuracy score of validation data by `n_estimators=10` and `n_estimators=100`, respectively.\n"
      ]
    },
    {
      "cell_type": "code",
      "execution_count": null,
      "metadata": {
        "id": "H72U5LtsZC-J",
        "colab": {
          "base_uri": "https://localhost:8080/"
        },
        "outputId": "7524fcc6-170a-428f-c68d-3d5b45ab5dc0"
      },
      "outputs": [
        {
          "output_type": "stream",
          "name": "stdout",
          "text": [
            "Accuracy using clf_10 on validation data :  0.9333333333333333\n",
            "Accuracy using clf_100 on validation data :  0.9366666666666666\n"
          ]
        }
      ],
      "source": [
        "from sklearn.ensemble import RandomForestClassifier\n",
        "from sklearn.datasets import make_classification\n",
        "clf_10tree = RandomForest(n_estimators=10, max_features = np.sqrt(len(feature_names)))\n",
        "clf_100tree = RandomForest(n_estimators=100, max_features = np.sqrt(len(feature_names)))\n",
        "\n",
        "\n",
        "clf_10tree.fit(X , Y)\n",
        "predictions = clf_10tree.predict(X_test)\n",
        "print(\"Accuracy using clf_10 on validation data : \" , accuracy_score(Y_test , predictions))\n",
        "\n",
        "clf_100tree.fit(X , Y)\n",
        "predictions = clf_100tree.predict(X_test)\n",
        "print(\"Accuracy using clf_100 on validation data : \" , accuracy_score(Y_test , predictions))\n",
        "\n",
        "# clf = RandomForestClassifier(n_estimators=10)\n",
        "# clf.fit(X, Y)\n",
        "# predictions = clf.predict(X_test)\n",
        "# print(\"Accuracy using sklearn clf_10 on validation data : \" , accuracy_score(Y_test , predictions))\n",
        "\n",
        "# clf = RandomForestClassifier(n_estimators=100)\n",
        "# clf.fit(X, Y)\n",
        "# predictions = clf.predict(X_test)\n",
        "# print(\"Accuracy using sklearn sklearn clf_100 on validation data : \" , accuracy_score(Y_test , predictions))"
      ]
    },
    {
      "cell_type": "markdown",
      "metadata": {
        "id": "Olxn9pitZC-J"
      },
      "source": [
        "### Question 5.2\n",
        "Using `criterion=gini`, `max_depth=None`, `n_estimators=10`, showing the accuracy score of validation data by `max_features=sqrt(n_features)` and `max_features=n_features`, respectively.\n"
      ]
    },
    {
      "cell_type": "code",
      "execution_count": null,
      "metadata": {
        "id": "OMbrIisIZC-J",
        "colab": {
          "base_uri": "https://localhost:8080/"
        },
        "outputId": "9d5f3008-21d5-4cec-b05a-bcd3bed76835"
      },
      "outputs": [
        {
          "output_type": "stream",
          "name": "stdout",
          "text": [
            "Accuracy using clf_random_features on validation data :  0.9133333333333333\n",
            "Accuracy using clf_all_features on validation data :  0.9566666666666667\n"
          ]
        }
      ],
      "source": [
        "clf_random_features = RandomForest(n_estimators=10, max_features=np.sqrt(len(feature_names)))\n",
        "clf_all_features = RandomForest(n_estimators=10, max_features=len(feature_names))\n",
        "\n",
        "clf_random_features.fit(X , Y)\n",
        "predictions = clf_random_features.predict(X_test)\n",
        "print(\"Accuracy using clf_random_features on validation data : \" , accuracy_score(Y_test , predictions))\n",
        "\n",
        "clf_all_features.fit(X , Y)\n",
        "predictions = clf_all_features.predict(X_test)\n",
        "print(\"Accuracy using clf_all_features on validation data : \" , accuracy_score(Y_test , predictions))"
      ]
    },
    {
      "cell_type": "markdown",
      "metadata": {
        "id": "e8wP1BOQZC-K"
      },
      "source": [
        "- Note: Use majority votes to get the final prediction, you may get slightly different results when re-building the random forest model"
      ]
    },
    {
      "cell_type": "markdown",
      "metadata": {
        "id": "0J0f9wBiZC-K"
      },
      "source": [
        "### Question 6. Train and tune your model on a real-world dataset\n",
        "Try you best to get higher accuracy score of your model. After parameter tuning, you can train your model on the full dataset (train + val).\n",
        "- Feature engineering\n",
        "- Hyperparameter tuning\n",
        "- Implement any other ensemble methods, such as gradient boosting. Please note that you **can not** call any package. Also, only ensemble method can be used. Neural network method is not allowed to used."
      ]
    },
    {
      "cell_type": "code",
      "execution_count": null,
      "metadata": {
        "id": "qPNUzLkfZC-K"
      },
      "outputs": [],
      "source": [
        "def train_your_model(data): \n",
        "  '''\n",
        "   因為用global寫 , 所以重複執行某個cell block會導致資料集不一致(或是index out of range等)!!!\n",
        "   請重頭跑到尾run all一次整份程式即可。\n",
        "\n",
        "   在這整份作業中我對資料集的操作都是用global的原因是避免資料要在object\n",
        "   中傳遞會每次都要copy一份 , 這樣很耗時間 , 所以乾脆利用程式執行順序去每次改一個全域變數 , 不同object創立後都會去看同一個名字的全域變數 , 但是不同時間點這個變數的資料集內容會不同\n",
        "   ex:在adaboost中每一輪因為要依據各筆資料的weight sample 原本丟進fit的原始資料集 , 所以可能在每一個找weak classifier的round時 , 這份全域資料集X,Y會先變成那份新sample的資料集以提供給各函數做操作 , 在結束\n",
        "   此輪後又會把這個全域資料集X,Y改回丟進fit的原始資料集 , 這樣下一輪又要根據各筆資料的weight sample時 , 看的才會是同一份丟進fit裡面的原始資料集\n",
        "\n",
        "   而在每次fit的時候都會用傳入的data改寫那個全域變數 , 所以可以保證正確的程式執行\n",
        "  '''\n",
        "  global X\n",
        "  global Y\n",
        "\n",
        "  XplusXtest = []\n",
        "  YplusYtest = []\n",
        "  for i in X:\n",
        "    XplusXtest.append(i)\n",
        "  for i in Y:\n",
        "    YplusYtest.append(i)\n",
        "  for i in X_test:\n",
        "    XplusXtest.append(i)\n",
        "  for i in Y_test:\n",
        "    YplusYtest.append(i)\n",
        "\n",
        "  clf_adaboost150 = AdaBoost(n_estimators = 150 , max_depth = 1)\n",
        "  # print(np.array(XplusXtest).shape , np.array(YplusYtest).shape)\n",
        "  clf_adaboost150.fit(np.array(XplusXtest) , np.array(YplusYtest))\n",
        "  return clf_adaboost150"
      ]
    },
    {
      "cell_type": "code",
      "execution_count": null,
      "metadata": {
        "id": "NvuqDie_ZC-K",
        "colab": {
          "base_uri": "https://localhost:8080/",
          "height": 313
        },
        "outputId": "39da2b5d-9ca0-45e7-cccb-92ca37f93127"
      },
      "outputs": [
        {
          "output_type": "error",
          "ename": "KeyboardInterrupt",
          "evalue": "ignored",
          "traceback": [
            "\u001b[0;31m---------------------------------------------------------------------------\u001b[0m",
            "\u001b[0;31mKeyboardInterrupt\u001b[0m                         Traceback (most recent call last)",
            "\u001b[0;32m<ipython-input-18-f0c6e1c01ba3>\u001b[0m in \u001b[0;36m<module>\u001b[0;34m\u001b[0m\n\u001b[0;32m----> 1\u001b[0;31m \u001b[0mmy_model\u001b[0m \u001b[0;34m=\u001b[0m \u001b[0mtrain_your_model\u001b[0m\u001b[0;34m(\u001b[0m\u001b[0mtrain_df\u001b[0m\u001b[0;34m)\u001b[0m\u001b[0;34m\u001b[0m\u001b[0;34m\u001b[0m\u001b[0m\n\u001b[0m",
            "\u001b[0;32m<ipython-input-17-f19ffc34af9a>\u001b[0m in \u001b[0;36mtrain_your_model\u001b[0;34m(data)\u001b[0m\n\u001b[1;32m     27\u001b[0m   \u001b[0mclf_adaboost150\u001b[0m \u001b[0;34m=\u001b[0m \u001b[0mAdaBoost\u001b[0m\u001b[0;34m(\u001b[0m\u001b[0mn_estimators\u001b[0m \u001b[0;34m=\u001b[0m \u001b[0;36m150\u001b[0m \u001b[0;34m,\u001b[0m \u001b[0mmax_depth\u001b[0m \u001b[0;34m=\u001b[0m \u001b[0;36m1\u001b[0m\u001b[0;34m)\u001b[0m\u001b[0;34m\u001b[0m\u001b[0;34m\u001b[0m\u001b[0m\n\u001b[1;32m     28\u001b[0m   \u001b[0;31m# print(np.array(XplusXtest).shape , np.array(YplusYtest).shape)\u001b[0m\u001b[0;34m\u001b[0m\u001b[0;34m\u001b[0m\u001b[0;34m\u001b[0m\u001b[0m\n\u001b[0;32m---> 29\u001b[0;31m   \u001b[0mclf_adaboost150\u001b[0m\u001b[0;34m.\u001b[0m\u001b[0mfit\u001b[0m\u001b[0;34m(\u001b[0m\u001b[0mnp\u001b[0m\u001b[0;34m.\u001b[0m\u001b[0marray\u001b[0m\u001b[0;34m(\u001b[0m\u001b[0mXplusXtest\u001b[0m\u001b[0;34m)\u001b[0m \u001b[0;34m,\u001b[0m \u001b[0mnp\u001b[0m\u001b[0;34m.\u001b[0m\u001b[0marray\u001b[0m\u001b[0;34m(\u001b[0m\u001b[0mYplusYtest\u001b[0m\u001b[0;34m)\u001b[0m\u001b[0;34m)\u001b[0m\u001b[0;34m\u001b[0m\u001b[0;34m\u001b[0m\u001b[0m\n\u001b[0m\u001b[1;32m     30\u001b[0m   \u001b[0;32mreturn\u001b[0m \u001b[0mclf_adaboost150\u001b[0m\u001b[0;34m\u001b[0m\u001b[0;34m\u001b[0m\u001b[0m\n",
            "\u001b[0;32m<ipython-input-12-228887fe2982>\u001b[0m in \u001b[0;36mfit\u001b[0;34m(self, x_data, y_data)\u001b[0m\n\u001b[1;32m     31\u001b[0m           \u001b[0myy_data\u001b[0m\u001b[0;34m.\u001b[0m\u001b[0mappend\u001b[0m\u001b[0;34m(\u001b[0m\u001b[0my_data\u001b[0m\u001b[0;34m[\u001b[0m\u001b[0mrow\u001b[0m\u001b[0;34m]\u001b[0m\u001b[0;34m)\u001b[0m\u001b[0;34m\u001b[0m\u001b[0;34m\u001b[0m\u001b[0m\n\u001b[1;32m     32\u001b[0m \u001b[0;34m\u001b[0m\u001b[0m\n\u001b[0;32m---> 33\u001b[0;31m         \u001b[0mbest_weak_classifier\u001b[0m\u001b[0;34m.\u001b[0m\u001b[0mfit\u001b[0m\u001b[0;34m(\u001b[0m\u001b[0mnp\u001b[0m\u001b[0;34m.\u001b[0m\u001b[0marray\u001b[0m\u001b[0;34m(\u001b[0m\u001b[0mxx_data\u001b[0m\u001b[0;34m)\u001b[0m \u001b[0;34m,\u001b[0m \u001b[0myy_data\u001b[0m\u001b[0;34m)\u001b[0m\u001b[0;34m\u001b[0m\u001b[0;34m\u001b[0m\u001b[0m\n\u001b[0m\u001b[1;32m     34\u001b[0m         \u001b[0mself\u001b[0m\u001b[0;34m.\u001b[0m\u001b[0mroots\u001b[0m\u001b[0;34m.\u001b[0m\u001b[0mappend\u001b[0m\u001b[0;34m(\u001b[0m\u001b[0mbest_weak_classifier\u001b[0m\u001b[0;34m.\u001b[0m\u001b[0mroot_node\u001b[0m\u001b[0;34m)\u001b[0m\u001b[0;34m\u001b[0m\u001b[0;34m\u001b[0m\u001b[0m\n\u001b[1;32m     35\u001b[0m         \u001b[0;31m# print(best_weak_classifier.root_node.question , best_weak_classifier.root_node.threshold)\u001b[0m\u001b[0;34m\u001b[0m\u001b[0;34m\u001b[0m\u001b[0;34m\u001b[0m\u001b[0m\n",
            "\u001b[0;32m<ipython-input-8-9b48fa0ef03b>\u001b[0m in \u001b[0;36mfit\u001b[0;34m(self, x_data, y_data)\u001b[0m\n\u001b[1;32m     17\u001b[0m     \u001b[0;32mif\u001b[0m \u001b[0mself\u001b[0m\u001b[0;34m.\u001b[0m\u001b[0mrandom_\u001b[0m \u001b[0;34m==\u001b[0m \u001b[0;36m0\u001b[0m\u001b[0;34m:\u001b[0m\u001b[0;34m\u001b[0m\u001b[0;34m\u001b[0m\u001b[0m\n\u001b[1;32m     18\u001b[0m       \u001b[0mself\u001b[0m\u001b[0;34m.\u001b[0m\u001b[0mrandom_\u001b[0m \u001b[0;34m=\u001b[0m \u001b[0mx_data\u001b[0m\u001b[0;34m.\u001b[0m\u001b[0mshape\u001b[0m\u001b[0;34m[\u001b[0m\u001b[0;36m1\u001b[0m\u001b[0;34m]\u001b[0m\u001b[0;34m\u001b[0m\u001b[0;34m\u001b[0m\u001b[0m\n\u001b[0;32m---> 19\u001b[0;31m     \u001b[0mself\u001b[0m\u001b[0;34m.\u001b[0m\u001b[0mroot_node\u001b[0m \u001b[0;34m=\u001b[0m \u001b[0mself\u001b[0m\u001b[0;34m.\u001b[0m\u001b[0mbuild_tree\u001b[0m\u001b[0;34m(\u001b[0m\u001b[0mrows_till_now\u001b[0m \u001b[0;34m,\u001b[0m \u001b[0mlabels_till_now\u001b[0m \u001b[0;34m,\u001b[0m \u001b[0;36m0\u001b[0m\u001b[0;34m)\u001b[0m\u001b[0;34m\u001b[0m\u001b[0;34m\u001b[0m\u001b[0m\n\u001b[0m\u001b[1;32m     20\u001b[0m \u001b[0;34m\u001b[0m\u001b[0m\n\u001b[1;32m     21\u001b[0m   \u001b[0;32mdef\u001b[0m \u001b[0mpredict\u001b[0m\u001b[0;34m(\u001b[0m\u001b[0mself\u001b[0m\u001b[0;34m,\u001b[0m \u001b[0mx_data\u001b[0m\u001b[0;34m)\u001b[0m\u001b[0;34m:\u001b[0m\u001b[0;34m\u001b[0m\u001b[0;34m\u001b[0m\u001b[0m\n",
            "\u001b[0;32m<ipython-input-8-9b48fa0ef03b>\u001b[0m in \u001b[0;36mbuild_tree\u001b[0;34m(self, rows_till_now, labels_till_now, depth)\u001b[0m\n\u001b[1;32m     42\u001b[0m       \u001b[0mtrue_rows\u001b[0m \u001b[0;34m,\u001b[0m \u001b[0mtrue_labels\u001b[0m \u001b[0;34m,\u001b[0m \u001b[0mfalse_rows\u001b[0m \u001b[0;34m,\u001b[0m \u001b[0mfalse_labels\u001b[0m \u001b[0;34m=\u001b[0m \u001b[0mpartition\u001b[0m\u001b[0;34m(\u001b[0m\u001b[0mrows_till_now\u001b[0m \u001b[0;34m,\u001b[0m \u001b[0mlabels_till_now\u001b[0m \u001b[0;34m,\u001b[0m \u001b[0mbest_feature_id\u001b[0m \u001b[0;34m,\u001b[0m \u001b[0mbest_value\u001b[0m \u001b[0;34m,\u001b[0m \u001b[0mbest_isbinary\u001b[0m\u001b[0;34m)\u001b[0m\u001b[0;34m\u001b[0m\u001b[0;34m\u001b[0m\u001b[0m\n\u001b[1;32m     43\u001b[0m       \u001b[0mtrue_branch\u001b[0m \u001b[0;34m=\u001b[0m \u001b[0mself\u001b[0m\u001b[0;34m.\u001b[0m\u001b[0mbuild_tree\u001b[0m\u001b[0;34m(\u001b[0m\u001b[0mtrue_rows\u001b[0m \u001b[0;34m,\u001b[0m \u001b[0mtrue_labels\u001b[0m \u001b[0;34m,\u001b[0m \u001b[0mdepth\u001b[0m\u001b[0;34m+\u001b[0m\u001b[0;36m1\u001b[0m\u001b[0;34m)\u001b[0m \u001b[0;31m# extend true branch\u001b[0m\u001b[0;34m\u001b[0m\u001b[0;34m\u001b[0m\u001b[0m\n\u001b[0;32m---> 44\u001b[0;31m       \u001b[0mfalse_branch\u001b[0m \u001b[0;34m=\u001b[0m \u001b[0mself\u001b[0m\u001b[0;34m.\u001b[0m\u001b[0mbuild_tree\u001b[0m\u001b[0;34m(\u001b[0m\u001b[0mfalse_rows\u001b[0m \u001b[0;34m,\u001b[0m \u001b[0mfalse_labels\u001b[0m \u001b[0;34m,\u001b[0m \u001b[0mdepth\u001b[0m\u001b[0;34m+\u001b[0m\u001b[0;36m1\u001b[0m\u001b[0;34m)\u001b[0m \u001b[0;31m# extend false branch\u001b[0m\u001b[0;34m\u001b[0m\u001b[0;34m\u001b[0m\u001b[0m\n\u001b[0m\u001b[1;32m     45\u001b[0m       \u001b[0;32mreturn\u001b[0m \u001b[0mDecision_Node\u001b[0m\u001b[0;34m(\u001b[0m\u001b[0mbest_feature_id\u001b[0m \u001b[0;34m,\u001b[0m \u001b[0mbest_value\u001b[0m \u001b[0;34m,\u001b[0m \u001b[0mtrue_branch\u001b[0m\u001b[0;34m,\u001b[0m \u001b[0mfalse_branch\u001b[0m \u001b[0;34m,\u001b[0m \u001b[0mdepth\u001b[0m \u001b[0;34m,\u001b[0m \u001b[0mbest_isbinary\u001b[0m\u001b[0;34m)\u001b[0m \u001b[0;31m# create a decision_node\u001b[0m\u001b[0;34m\u001b[0m\u001b[0;34m\u001b[0m\u001b[0m\n\u001b[1;32m     46\u001b[0m \u001b[0;34m\u001b[0m\u001b[0m\n",
            "\u001b[0;32m<ipython-input-8-9b48fa0ef03b>\u001b[0m in \u001b[0;36mbuild_tree\u001b[0;34m(self, rows_till_now, labels_till_now, depth)\u001b[0m\n\u001b[1;32m     29\u001b[0m       \u001b[0;32mglobal\u001b[0m \u001b[0mX\u001b[0m\u001b[0;34m\u001b[0m\u001b[0;34m\u001b[0m\u001b[0m\n\u001b[1;32m     30\u001b[0m       best_feature_id , best_value , best_gain , best_isbinary = find_best_split(\n\u001b[0;32m---> 31\u001b[0;31m       rows_till_now , labels_till_now , self.criterion , X.shape[1] , self.random_)\n\u001b[0m\u001b[1;32m     32\u001b[0m       \u001b[0;32mif\u001b[0m \u001b[0mis_leaf\u001b[0m\u001b[0;34m(\u001b[0m\u001b[0mdepth\u001b[0m \u001b[0;34m,\u001b[0m \u001b[0mself\u001b[0m\u001b[0;34m.\u001b[0m\u001b[0mmax_depth\u001b[0m \u001b[0;34m,\u001b[0m \u001b[0mbest_gain\u001b[0m\u001b[0;34m)\u001b[0m \u001b[0;34m:\u001b[0m \u001b[0;31m# if it is a leaf node condition , create a leaf_node and then return its reference to its parent\u001b[0m\u001b[0;34m\u001b[0m\u001b[0;34m\u001b[0m\u001b[0m\n\u001b[1;32m     33\u001b[0m         \u001b[0mis_zero\u001b[0m \u001b[0;34m=\u001b[0m \u001b[0;36m0\u001b[0m\u001b[0;34m\u001b[0m\u001b[0;34m\u001b[0m\u001b[0m\n",
            "\u001b[0;32m<ipython-input-6-eaf0b7111bc0>\u001b[0m in \u001b[0;36mfind_best_split\u001b[0;34m(rows_till_now, labels_till_now, criterion, total_features, random_)\u001b[0m\n\u001b[1;32m     91\u001b[0m     \u001b[0;32mfor\u001b[0m \u001b[0mval\u001b[0m \u001b[0;32min\u001b[0m \u001b[0mvals\u001b[0m\u001b[0;34m:\u001b[0m\u001b[0;34m\u001b[0m\u001b[0;34m\u001b[0m\u001b[0m\n\u001b[1;32m     92\u001b[0m       \u001b[0mcriteria\u001b[0m \u001b[0;34m=\u001b[0m \u001b[0mval\u001b[0m\u001b[0;34m\u001b[0m\u001b[0;34m\u001b[0m\u001b[0m\n\u001b[0;32m---> 93\u001b[0;31m       \u001b[0mtrue_rows\u001b[0m\u001b[0;34m,\u001b[0m \u001b[0mtrue_labels\u001b[0m \u001b[0;34m,\u001b[0m \u001b[0mfalse_rows\u001b[0m \u001b[0;34m,\u001b[0m \u001b[0mfalse_labels\u001b[0m \u001b[0;34m=\u001b[0m \u001b[0mpartition\u001b[0m\u001b[0;34m(\u001b[0m\u001b[0mrows_till_now\u001b[0m \u001b[0;34m,\u001b[0m \u001b[0mlabels_till_now\u001b[0m \u001b[0;34m,\u001b[0m \u001b[0mf\u001b[0m \u001b[0;34m,\u001b[0m \u001b[0mcriteria\u001b[0m \u001b[0;34m,\u001b[0m \u001b[0mis_binary\u001b[0m\u001b[0;34m)\u001b[0m\u001b[0;34m\u001b[0m\u001b[0;34m\u001b[0m\u001b[0m\n\u001b[0m\u001b[1;32m     94\u001b[0m       \u001b[0;31m# print(len(true_rows) , len(false_rows))\u001b[0m\u001b[0;34m\u001b[0m\u001b[0;34m\u001b[0m\u001b[0;34m\u001b[0m\u001b[0m\n\u001b[1;32m     95\u001b[0m       \u001b[0;32mif\u001b[0m \u001b[0mlen\u001b[0m\u001b[0;34m(\u001b[0m\u001b[0mtrue_rows\u001b[0m\u001b[0;34m)\u001b[0m \u001b[0;34m==\u001b[0m \u001b[0;36m0\u001b[0m \u001b[0;32mor\u001b[0m \u001b[0mlen\u001b[0m\u001b[0;34m(\u001b[0m\u001b[0mfalse_rows\u001b[0m\u001b[0;34m)\u001b[0m \u001b[0;34m==\u001b[0m \u001b[0;36m0\u001b[0m\u001b[0;34m:\u001b[0m \u001b[0;31m# 無用的拆分 , 意即根本沒辦法分群的一個條件組合\u001b[0m\u001b[0;34m\u001b[0m\u001b[0;34m\u001b[0m\u001b[0m\n",
            "\u001b[0;32m<ipython-input-6-eaf0b7111bc0>\u001b[0m in \u001b[0;36mpartition\u001b[0;34m(rows_till_now, labels_till_now, col, criteria, is_binary)\u001b[0m\n\u001b[1;32m     41\u001b[0m \u001b[0;34m\u001b[0m\u001b[0m\n\u001b[1;32m     42\u001b[0m   \u001b[0;32mfor\u001b[0m \u001b[0mi\u001b[0m \u001b[0;34m,\u001b[0m \u001b[0mrow\u001b[0m \u001b[0;32min\u001b[0m \u001b[0menumerate\u001b[0m\u001b[0;34m(\u001b[0m\u001b[0mrows_till_now\u001b[0m\u001b[0;34m)\u001b[0m\u001b[0;34m:\u001b[0m\u001b[0;34m\u001b[0m\u001b[0;34m\u001b[0m\u001b[0m\n\u001b[0;32m---> 43\u001b[0;31m     \u001b[0;32mif\u001b[0m \u001b[0mmatch\u001b[0m\u001b[0;34m(\u001b[0m\u001b[0mX\u001b[0m\u001b[0;34m[\u001b[0m\u001b[0mrow\u001b[0m\u001b[0;34m]\u001b[0m\u001b[0;34m[\u001b[0m\u001b[0mcol\u001b[0m\u001b[0;34m]\u001b[0m \u001b[0;34m,\u001b[0m \u001b[0mcol\u001b[0m \u001b[0;34m,\u001b[0m \u001b[0mcriteria\u001b[0m \u001b[0;34m,\u001b[0m \u001b[0mis_binary\u001b[0m\u001b[0;34m)\u001b[0m \u001b[0;34m:\u001b[0m\u001b[0;34m\u001b[0m\u001b[0;34m\u001b[0m\u001b[0m\n\u001b[0m\u001b[1;32m     44\u001b[0m       \u001b[0mtrue_rows\u001b[0m\u001b[0;34m.\u001b[0m\u001b[0mappend\u001b[0m\u001b[0;34m(\u001b[0m\u001b[0mrow\u001b[0m\u001b[0;34m)\u001b[0m\u001b[0;34m\u001b[0m\u001b[0;34m\u001b[0m\u001b[0m\n\u001b[1;32m     45\u001b[0m       \u001b[0mtrue_labels\u001b[0m\u001b[0;34m.\u001b[0m\u001b[0mappend\u001b[0m\u001b[0;34m(\u001b[0m\u001b[0mlabels_till_now\u001b[0m\u001b[0;34m[\u001b[0m\u001b[0mi\u001b[0m\u001b[0;34m]\u001b[0m\u001b[0;34m)\u001b[0m\u001b[0;34m\u001b[0m\u001b[0;34m\u001b[0m\u001b[0m\n",
            "\u001b[0;32m<ipython-input-6-eaf0b7111bc0>\u001b[0m in \u001b[0;36mmatch\u001b[0;34m(input, col, threshold, is_binary)\u001b[0m\n\u001b[1;32m     22\u001b[0m \u001b[0;32mdef\u001b[0m \u001b[0mmatch\u001b[0m\u001b[0;34m(\u001b[0m\u001b[0minput\u001b[0m \u001b[0;34m,\u001b[0m \u001b[0mcol\u001b[0m \u001b[0;34m,\u001b[0m \u001b[0mthreshold\u001b[0m \u001b[0;34m,\u001b[0m \u001b[0mis_binary\u001b[0m\u001b[0;34m)\u001b[0m\u001b[0;34m:\u001b[0m \u001b[0;31m# 對於第col個的feature , 檢驗input值是否符合threshold , 丟入col的原因是為了檢察是不是binary column(either 0 or 1)\u001b[0m\u001b[0;34m\u001b[0m\u001b[0;34m\u001b[0m\u001b[0m\n\u001b[1;32m     23\u001b[0m   \u001b[0;32mif\u001b[0m \u001b[0;32mnot\u001b[0m \u001b[0mis_binary\u001b[0m\u001b[0;34m:\u001b[0m\u001b[0;34m\u001b[0m\u001b[0;34m\u001b[0m\u001b[0m\n\u001b[0;32m---> 24\u001b[0;31m     \u001b[0;32mif\u001b[0m \u001b[0minput\u001b[0m \u001b[0;34m>=\u001b[0m \u001b[0mthreshold\u001b[0m\u001b[0;34m:\u001b[0m\u001b[0;34m\u001b[0m\u001b[0;34m\u001b[0m\u001b[0m\n\u001b[0m\u001b[1;32m     25\u001b[0m       \u001b[0;32mreturn\u001b[0m \u001b[0;32mTrue\u001b[0m\u001b[0;34m\u001b[0m\u001b[0;34m\u001b[0m\u001b[0m\n\u001b[1;32m     26\u001b[0m     \u001b[0;32melse\u001b[0m\u001b[0;34m:\u001b[0m\u001b[0;34m\u001b[0m\u001b[0;34m\u001b[0m\u001b[0m\n",
            "\u001b[0;31mKeyboardInterrupt\u001b[0m: "
          ]
        }
      ],
      "source": [
        "my_model = train_your_model(train_df)"
      ]
    },
    {
      "cell_type": "code",
      "execution_count": null,
      "metadata": {
        "id": "XG8YOz4pZC-K"
      },
      "outputs": [],
      "source": [
        "y_pred = my_model.predict(x_test)"
      ]
    },
    {
      "cell_type": "code",
      "execution_count": null,
      "metadata": {
        "id": "tsQ3skmIZC-K"
      },
      "outputs": [],
      "source": [
        "assert y_pred.shape == (500, )"
      ]
    },
    {
      "cell_type": "markdown",
      "metadata": {
        "id": "y_ggXXULZC-L"
      },
      "source": [
        "## Supplementary\n",
        "If you have trouble to implement this homework, TA strongly recommend watching [this video](https://www.youtube.com/watch?v=LDRbO9a6XPU), which explains Decision Tree model clearly. But don't copy code from any resources, try to finish this homework by yourself! "
      ]
    },
    {
      "cell_type": "markdown",
      "metadata": {
        "id": "5a6IdRNiZC-L"
      },
      "source": [
        "### DO NOT MODIFY CODE BELOW"
      ]
    },
    {
      "cell_type": "code",
      "execution_count": null,
      "metadata": {
        "id": "7m3CK8JjZC-L"
      },
      "outputs": [],
      "source": [
        "import pandas as pd\n",
        "from sklearn.metrics import accuracy_score\n",
        "y_test = pd.read_csv('y_test.csv')['price_range'].values\n",
        "\n",
        "print('Test-set accuarcy score: ', accuracy_score(y_test, y_pred))"
      ]
    },
    {
      "cell_type": "code",
      "execution_count": null,
      "metadata": {
        "id": "xyPmeHQLZC-L"
      },
      "outputs": [],
      "source": []
    },
    {
      "cell_type": "code",
      "execution_count": null,
      "metadata": {
        "id": "7U6D2bKLZC-L",
        "colab": {
          "base_uri": "https://localhost:8080/"
        },
        "outputId": "71fe0408-b07f-47a3-dbfb-fd2a6e047ce9"
      },
      "outputs": [
        {
          "output_type": "stream",
          "name": "stdout",
          "text": [
            "*** We will check your result for Question 3 manually *** (5 points)\n",
            "*** We will check your result for Question 6 manually *** (20 points)\n",
            "Approximate score range: 45.0 ~ 70.0\n",
            "*** This score is only for reference ***\n"
          ]
        }
      ],
      "source": [
        "def discrete_checker(score, thres, clf, name, x_train, y_train, x_test, y_test):\n",
        "    clf.fit(x_train, y_train)\n",
        "    y_pred = clf.predict(x_test)\n",
        "    if accuracy_score(y_test, y_pred) - thres >= 0:\n",
        "        return score\n",
        "    else:\n",
        "        print(f\"{name} failed\")\n",
        "        return 0\n",
        "\n",
        "\n",
        "def patient_checker(score, thres, CLS, kwargs, name,\n",
        "                    x_train, y_train, x_test, y_test, patient=10):\n",
        "    while patient > 0:\n",
        "        patient -= 1\n",
        "        clf = CLS(**kwargs)\n",
        "        clf.fit(x_train, y_train)\n",
        "        y_pred = clf.predict(x_test)\n",
        "        if accuracy_score(y_test, y_pred) - thres >= 0:\n",
        "            return score\n",
        "    print(f\"{name} failed\")\n",
        "    print(\"Considering the randomness, we will check it manually\")\n",
        "    return 0\n",
        "\n",
        "\n",
        "def load_dataset():\n",
        "    file_url = \"http://storage.googleapis.com/download.tensorflow.org/data/abalone_train.csv\"\n",
        "    df = pd.read_csv(\n",
        "        file_url,\n",
        "        names=[\"Length\", \"Diameter\", \"Height\", \"Whole weight\", \"Shucked weight\",\n",
        "               \"Viscera weight\", \"Shell weight\", \"Age\"]\n",
        "    )\n",
        "\n",
        "    df['Target'] = (df[\"Age\"] > 15).astype(int)\n",
        "    df = df.drop(labels=[\"Age\"], axis=\"columns\")\n",
        "\n",
        "    train_idx = range(0, len(df), 10)\n",
        "    test_idx = range(1, len(df), 20)\n",
        "\n",
        "    train_df = df.iloc[train_idx]\n",
        "    test_df = df.iloc[test_idx]\n",
        "\n",
        "    x_train = train_df.drop(labels=[\"Target\"], axis=\"columns\")\n",
        "    feature_names = x_train.columns.values\n",
        "    x_train = x_train.values\n",
        "    y_train = train_df['Target'].values\n",
        "\n",
        "    x_test = test_df.drop(labels=[\"Target\"], axis=\"columns\")\n",
        "    x_test = x_test.values\n",
        "    y_test = test_df['Target'].values\n",
        "    return x_train, y_train, x_test, y_test, feature_names\n",
        "\n",
        "\n",
        "score = 0\n",
        "\n",
        "data = np.array([1, 2])\n",
        "if abs(gini(data) - 0.5) < 1e-4:\n",
        "    score += 2.5\n",
        "else:\n",
        "    print(\"gini test failed\")\n",
        "\n",
        "if abs(entropy(data) - 1) < 1e-4:\n",
        "    score += 2.5\n",
        "else:\n",
        "    print(\"entropy test failed\")\n",
        "\n",
        "x_train, y_train, x_test, y_test, feature_names = load_dataset()\n",
        "\n",
        "score += discrete_checker(5, 0.9337,\n",
        "                          DecisionTree(criterion='gini', max_depth=3),\n",
        "                          \"DecisionTree(criterion='gini', max_depth=3)\",\n",
        "                          x_train, y_train, x_test, y_test\n",
        "                          )\n",
        "\n",
        "score += discrete_checker(2.5, 0.9036,\n",
        "                          DecisionTree(criterion='gini', max_depth=10),\n",
        "                          \"DecisionTree(criterion='gini', max_depth=10)\",\n",
        "                          x_train, y_train, x_test, y_test\n",
        "                          )\n",
        "\n",
        "score += discrete_checker(2.5, 0.9096,\n",
        "                          DecisionTree(criterion='entropy', max_depth=3),\n",
        "                          \"DecisionTree(criterion='entropy', max_depth=3)\",\n",
        "                          x_train, y_train, x_test, y_test\n",
        "                          )\n",
        "\n",
        "print(\"*** We will check your result for Question 3 manually *** (5 points)\")\n",
        "\n",
        "score += patient_checker(\n",
        "    7.5, 0.91, AdaBoost, {\"n_estimators\": 10},\n",
        "    \"AdaBoost(n_estimators=10)\",\n",
        "    x_train, y_train, x_test, y_test\n",
        ")\n",
        "\n",
        "score += patient_checker(\n",
        "    7.5, 0.87, AdaBoost, {\"n_estimators\": 100},\n",
        "    \"AdaBoost(n_estimators=100)\",\n",
        "    x_train, y_train, x_test, y_test\n",
        ")\n",
        "\n",
        "score += patient_checker(\n",
        "    5, 0.91, RandomForest,\n",
        "    {\"n_estimators\": 10, \"max_features\": np.sqrt(x_train.shape[1])},\n",
        "    \"RandomForest(n_estimators=10, max_features=sqrt(n_features))\",\n",
        "    x_train, y_train, x_test, y_test\n",
        ")\n",
        "\n",
        "score += patient_checker(\n",
        "    5, 0.91, RandomForest,\n",
        "    {\"n_estimators\": 100, \"max_features\": np.sqrt(x_train.shape[1])},\n",
        "    \"RandomForest(n_estimators=100, max_features=sqrt(n_features))\",\n",
        "    x_train, y_train, x_test, y_test\n",
        ")\n",
        "\n",
        "score += patient_checker(\n",
        "    5, 0.92, RandomForest,\n",
        "    {\"n_estimators\": 10, \"max_features\": x_train.shape[1]},\n",
        "    \"RandomForest(n_estimators=10, max_features=n_features)\",\n",
        "    x_train, y_train, x_test, y_test\n",
        ")\n",
        "\n",
        "print(\"*** We will check your result for Question 6 manually *** (20 points)\")\n",
        "print(\"Approximate score range:\", score, \"~\", score + 25)\n",
        "print(\"*** This score is only for reference ***\")"
      ]
    }
  ],
  "metadata": {
    "kernelspec": {
      "display_name": "Python 3.10.3 64-bit",
      "language": "python",
      "name": "python3"
    },
    "language_info": {
      "codemirror_mode": {
        "name": "ipython",
        "version": 3
      },
      "file_extension": ".py",
      "mimetype": "text/x-python",
      "name": "python",
      "nbconvert_exporter": "python",
      "pygments_lexer": "ipython3",
      "version": "3.10.3"
    },
    "vscode": {
      "interpreter": {
        "hash": "8c9afcc29181526987d0b385fb14ac7bec129a3a1f159e207d0db8e842e65205"
      }
    },
    "colab": {
      "provenance": [],
      "collapsed_sections": []
    }
  },
  "nbformat": 4,
  "nbformat_minor": 0
}