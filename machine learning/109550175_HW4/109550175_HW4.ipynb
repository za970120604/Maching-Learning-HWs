{
  "cells": [
    {
      "cell_type": "code",
      "execution_count": null,
      "metadata": {
        "id": "MG1xA-9fKUOK"
      },
      "outputs": [],
      "source": [
        "import numpy as np\n",
        "import pandas as pd\n",
        "from sklearn.svm import SVC, SVR\n",
        "from sklearn.metrics import accuracy_score\n",
        "import warnings\n",
        "warnings.filterwarnings(\"ignore\", category=np.VisibleDeprecationWarning)"
      ]
    },
    {
      "cell_type": "markdown",
      "metadata": {
        "id": "xAz3iCnLKUON"
      },
      "source": [
        "## Load data"
      ]
    },
    {
      "cell_type": "code",
      "execution_count": null,
      "metadata": {
        "id": "aXS-XyYEKUOO"
      },
      "outputs": [],
      "source": [
        "x_train = np.load(\"x_train.npy\")\n",
        "y_train = np.load(\"y_train.npy\")\n",
        "x_test = np.load(\"x_test.npy\")\n",
        "# y_test = np.load(\"y_test.npy\")"
      ]
    },
    {
      "cell_type": "code",
      "execution_count": null,
      "metadata": {
        "colab": {
          "base_uri": "https://localhost:8080/"
        },
        "id": "dxOXc-O-KUOP",
        "outputId": "8c9a24fe-7cb1-4459-959f-1c4ecfd6474a"
      },
      "outputs": [
        {
          "output_type": "stream",
          "name": "stdout",
          "text": [
            "(7000, 300)\n"
          ]
        }
      ],
      "source": [
        "# 7000 data with 300 features\n",
        "print(x_train.shape)"
      ]
    },
    {
      "cell_type": "code",
      "execution_count": null,
      "metadata": {
        "colab": {
          "base_uri": "https://localhost:8080/"
        },
        "id": "wfh4UbsvKUOQ",
        "outputId": "3062503e-5572-4fe5-c0fb-34d3b5a2e583"
      },
      "outputs": [
        {
          "output_type": "stream",
          "name": "stdout",
          "text": [
            "[0 1]\n"
          ]
        }
      ],
      "source": [
        "# It's a binary classification problem \n",
        "print(np.unique(y_train))"
      ]
    },
    {
      "cell_type": "markdown",
      "metadata": {
        "id": "atoctGUfKUOQ"
      },
      "source": [
        "## Question 1\n",
        "K-fold data partition: Implement the K-fold cross-validation function. Your function should take K as an argument and return a list of lists (len(list) should equal to K), which contains K elements. Each element is a list contains two parts, the first part contains the index of all training folds, e.g. Fold 2 to Fold 5 in split 1. The second part contains the index of validation fold, e.g. Fold 1 in  split 1"
      ]
    },
    {
      "cell_type": "code",
      "execution_count": null,
      "metadata": {
        "id": "ab3mYcfiKUOR"
      },
      "outputs": [],
      "source": [
        "def cross_validation(x_train, y_train, k=5):\n",
        "    all_index = []\n",
        "    # print(x_train.shape[0])\n",
        "    for i in range(x_train.shape[0]):\n",
        "      all_index.append(i)\n",
        "    np.random.shuffle(all_index) \n",
        "    kfold = []\n",
        "    part_a = x_train.shape[0] % k \n",
        "    # print(all_index)\n",
        "    val_index = []\n",
        "    train_index = []\n",
        "    start = 0\n",
        "    for i in range(k):\n",
        "      val_index = []\n",
        "      train_index = []\n",
        "      if i+1 <= part_a:\n",
        "        val_index = all_index[start : start + (x_train.shape[0] // k + 1)]\n",
        "        start += (x_train.shape[0] // k + 1)\n",
        "      else:\n",
        "        val_index = all_index[start : start + (x_train.shape[0] // k)]\n",
        "        start += (x_train.shape[0] // k)\n",
        "      for j in range(len(all_index)):\n",
        "        if not (all_index[j] in val_index):\n",
        "          train_index.append(all_index[j])\n",
        "      kfold.append([np.array(train_index) , np.array(val_index)])\n",
        "    return np.array(kfold)"
      ]
    },
    {
      "cell_type": "code",
      "execution_count": null,
      "metadata": {
        "id": "zymOr_OxKUOR"
      },
      "outputs": [],
      "source": [
        "kfold_data = cross_validation(x_train, y_train, k=10)\n",
        "assert len(kfold_data) == 10 # should contain 10 fold of data\n",
        "assert len(kfold_data[0]) == 2 # each element should contain train fold and validation fold\n",
        "assert kfold_data[0][1].shape[0] == 700 # The number of data in each validation fold should equal to training data divieded by K"
      ]
    },
    {
      "cell_type": "markdown",
      "metadata": {
        "id": "UHNanNuZKUOR"
      },
      "source": [
        "## example"
      ]
    },
    {
      "cell_type": "code",
      "execution_count": null,
      "metadata": {
        "colab": {
          "base_uri": "https://localhost:8080/"
        },
        "id": "MLK4Id1KKUOS",
        "outputId": "a8e3472b-506b-4fb4-8c0e-563a9cdef685"
      },
      "outputs": [
        {
          "output_type": "stream",
          "name": "stdout",
          "text": [
            "Split: 1, Training index: [ 0  2  3  4  5  6  8  9 10 11 14 15 16 17 18 19], Validation index: [ 1  7 12 13]\n",
            "Split: 2, Training index: [ 0  1  2  3  4  5  6  7  9 10 12 13 14 15 17 19], Validation index: [ 8 11 16 18]\n",
            "Split: 3, Training index: [ 0  1  3  5  6  7  8  9 10 11 12 13 14 16 18 19], Validation index: [ 2  4 15 17]\n",
            "Split: 4, Training index: [ 1  2  3  4  6  7  8  9 10 11 12 13 15 16 17 18], Validation index: [ 0  5 14 19]\n",
            "Split: 5, Training index: [ 0  1  2  4  5  7  8 11 12 13 14 15 16 17 18 19], Validation index: [ 3  6  9 10]\n"
          ]
        }
      ],
      "source": [
        "from sklearn.model_selection import KFold\n",
        "\n",
        "X = np.arange(20)\n",
        "kf = KFold(n_splits=5, shuffle=True)\n",
        "kfold_data= []\n",
        "for i, (train_index, val_index) in enumerate(kf.split(X)):\n",
        "    print(\"Split: %s, Training index: %s, Validation index: %s\" % (i+1, train_index, val_index))\n",
        "    kfold_data.append([train_index, val_index])"
      ]
    },
    {
      "cell_type": "code",
      "execution_count": null,
      "metadata": {
        "id": "3nc9ZAR8KUOS"
      },
      "outputs": [],
      "source": [
        "assert len(kfold_data) == 5 # should contain 5 fold of data\n",
        "assert len(kfold_data[0]) == 2 # each element should contains index of training fold and validation fold\n",
        "assert kfold_data[0][1].shape[0] == 4 # The number of data in each validation fold should equal to training data divieded by K"
      ]
    },
    {
      "cell_type": "markdown",
      "metadata": {
        "id": "Jrhow5LUKUOS"
      },
      "source": [
        "## Question 2\n",
        "Using sklearn.svm.SVC to train a classifier on the provided train set and conduct the grid search of “C” and “gamma” to find the best parameters by cross-validation."
      ]
    },
    {
      "cell_type": "code",
      "execution_count": null,
      "metadata": {
        "id": "KvBvVmUbKUOT"
      },
      "outputs": [],
      "source": [
        "clf = SVC(C=1.0, kernel='rbf', gamma=0.01)"
      ]
    },
    {
      "cell_type": "code",
      "execution_count": null,
      "metadata": {
        "id": "pNdbkGTjKUOT"
      },
      "outputs": [],
      "source": [
        "## your code\n",
        "C_start_power = 7\n",
        "\n",
        "C_end_power = 11\n",
        "\n",
        "C_num = 5                                 \n",
        "\n",
        "\n",
        "gamma_start_power = -3\n",
        "\n",
        "gamma_end_power = -7\n",
        "\n",
        "gamma_num = 5                            "
      ]
    },
    {
      "cell_type": "code",
      "execution_count": null,
      "metadata": {
        "colab": {
          "base_uri": "https://localhost:8080/"
        },
        "id": "17l-eOTs2eXY",
        "outputId": "deef03c5-a54b-466e-d74b-5fe83e4463c3"
      },
      "outputs": [
        {
          "output_type": "stream",
          "name": "stdout",
          "text": [
            "[1.e+07 1.e+08 1.e+09 1.e+10 1.e+11]\n",
            "[1.e-03 1.e-04 1.e-05 1.e-06 1.e-07]\n"
          ]
        }
      ],
      "source": [
        "C_candidate = np.geomspace( pow(10 , C_start_power) , pow(10 , C_end_power) , C_num)\n",
        "gamma_candidate = np.geomspace( pow(10 , gamma_start_power) , pow(10 , gamma_end_power) , gamma_num)\n",
        "# print(C_candidate)\n",
        "# print(gamma_candidate)"
      ]
    },
    {
      "cell_type": "code",
      "execution_count": null,
      "metadata": {
        "colab": {
          "base_uri": "https://localhost:8080/"
        },
        "id": "chU7afiM2qjr",
        "outputId": "268a2cf9-f104-4df5-eb2e-afd171f67489"
      },
      "outputs": [
        {
          "output_type": "stream",
          "name": "stdout",
          "text": [
            "trying combination : 10000000.0 , 0.001\n",
            "trying combination : 10000000.0 , 0.0001\n",
            "trying combination : 10000000.0 , 1e-05\n",
            "trying combination : 10000000.0 , 1e-06\n",
            "trying combination : 10000000.0 , 1e-07\n",
            "trying combination : 100000000.0 , 0.001\n",
            "trying combination : 100000000.0 , 0.0001\n",
            "trying combination : 100000000.0 , 1e-05\n",
            "trying combination : 100000000.0 , 1e-06\n",
            "trying combination : 100000000.0 , 1e-07\n",
            "trying combination : 1000000000.0 , 0.001\n",
            "trying combination : 1000000000.0 , 0.0001\n",
            "trying combination : 1000000000.0 , 1e-05\n",
            "trying combination : 1000000000.0 , 1e-06\n",
            "trying combination : 1000000000.0 , 1e-07\n",
            "trying combination : 10000000000.0 , 0.001\n",
            "trying combination : 10000000000.0 , 0.0001\n",
            "trying combination : 10000000000.0 , 1e-05\n",
            "trying combination : 10000000000.0 , 1e-06\n",
            "trying combination : 10000000000.0 , 1e-07\n",
            "trying combination : 100000000000.0 , 0.001\n",
            "trying combination : 100000000000.0 , 0.0001\n",
            "trying combination : 100000000000.0 , 1e-05\n",
            "trying combination : 100000000000.0 , 1e-06\n",
            "trying combination : 100000000000.0 , 1e-07\n"
          ]
        }
      ],
      "source": [
        "best_C_para = None\n",
        "best_gamma_para = None\n",
        "best_avg_acc = -1\n",
        "\n",
        "accs = []\n",
        "\n",
        "for i in C_candidate:\n",
        "  for j in gamma_candidate:\n",
        "    # print(f'trying combination : {i} , {j}')\n",
        "    clf = SVC(C = i , kernel='rbf', gamma = j)\n",
        "    kfolds = cross_validation(x_train, y_train, k=5)\n",
        "    acc = []\n",
        "    for a_fold in kfolds:\n",
        "\n",
        "      train_index = a_fold[0]\n",
        "      val_index = a_fold[1]\n",
        "\n",
        "      train_data = []\n",
        "      train_labels = []\n",
        "      val_data = []\n",
        "      val_labels = []\n",
        "      for id in train_index:\n",
        "        train_data.append(x_train[id])\n",
        "        train_labels.append(y_train[id])\n",
        "      for id_ in val_index:\n",
        "        val_data.append(x_train[id_])\n",
        "        val_labels.append(y_train[id_])\n",
        "      \n",
        "      clf.fit(np.array(train_data) , np.array(train_labels))\n",
        "      pred = clf.predict(np.array(val_data))\n",
        "      acc.append(accuracy_score(val_labels , pred))\n",
        "    if np.mean(np.array(acc)) >= best_avg_acc:\n",
        "      best_C_para = i\n",
        "      best_gamma_para = j\n",
        "      best_avg_acc = np.mean(np.array(acc))\n",
        "    accs.append(np.mean(np.array(acc)))\n",
        "mmin = min(accs)\n",
        "mmax = max(accs)"
      ]
    },
    {
      "cell_type": "code",
      "execution_count": null,
      "metadata": {
        "id": "Px6shL66KUOT",
        "colab": {
          "base_uri": "https://localhost:8080/"
        },
        "outputId": "921f0fb6-8bf8-418b-92d9-c9e9d82e7d3d"
      },
      "outputs": [
        {
          "output_type": "stream",
          "name": "stdout",
          "text": [
            "best_parameters : parameter for C is 10000000.0 , parameter for Gamma is 0.0001 , with best average accuracy : 0.9935714285714285\n"
          ]
        }
      ],
      "source": [
        "print(f\"best_parameters : parameter for C is {best_C_para} , parameter for Gamma is {best_gamma_para} , with best average accuracy : {best_avg_acc}\")"
      ]
    },
    {
      "cell_type": "markdown",
      "metadata": {
        "id": "m2YgqBk9KUOT"
      },
      "source": [
        "## Question 3\n",
        "Plot the grid search results of your SVM. The x, y represents the hyperparameters of “gamma” and “C”, respectively. And the color represents the average score of validation folds\n",
        "You reults should be look like this reference image below ![image](https://miro.medium.com/max/1296/1*wGWTup9r4cVytB5MOnsjdQ.png) "
      ]
    },
    {
      "cell_type": "code",
      "execution_count": null,
      "metadata": {
        "id": "wHb2mloM7m3h",
        "colab": {
          "base_uri": "https://localhost:8080/",
          "height": 582
        },
        "outputId": "ba1757ee-4bc5-454c-97fc-37ec16d352fe"
      },
      "outputs": [
        {
          "output_type": "display_data",
          "data": {
            "text/plain": [
              "<Figure size 720x720 with 2 Axes>"
            ],
            "image/png": "[encoded data removed]"
          },
          "metadata": {
            "needs_background": "light"
          }
        }
      ],
      "source": [
        "import numpy as np\n",
        "import matplotlib.pyplot as plt\n",
        "import matplotlib.cm as cm\n",
        "import matplotlib as matplotlib\n",
        "from matplotlib.pyplot import figure\n",
        "# print(accs)\n",
        "figure(figsize=(10 , 10))\n",
        "plt.title(\"Hyperparameter Gridsearch\" , fontsize = 20)\n",
        "accs = np.array(accs)\n",
        "accs = np.resize(accs, (len(C_candidate) , len(gamma_candidate)))\n",
        "# print(accs)\n",
        "plt.imshow(accs , cmap='coolwarm' , origin='lower', vmin=mmin, vmax=mmax)\n",
        "plt.colorbar()\n",
        "\n",
        "x_index = list(range(0,len(gamma_candidate))) \n",
        "y_index = list(range(0,len(C_candidate))) \n",
        "plt.xticks(x_index , gamma_candidate , rotation = 90) \n",
        "plt.yticks(y_index , C_candidate , rotation = 20)\n",
        "plt.xlabel(\"Gamma parameter\") # y label\n",
        "plt.ylabel(\"C parameter\") # x label\n",
        "for i in y_index:\n",
        "  for j in x_index:\n",
        "      text = plt.text(j, i, np.around(accs[i , j] , 5) , ha=\"center\" , va=\"center\" , color=\"black\" , fontsize=10)\n",
        "plt.show()"
      ]
    },
    {
      "cell_type": "markdown",
      "metadata": {
        "id": "O21N85StKUOU"
      },
      "source": [
        "## Question 4\n",
        "Train your SVM model by the best parameters you found from question 2 on the whole training set and evaluate the performance on the test set."
      ]
    },
    {
      "cell_type": "code",
      "execution_count": null,
      "metadata": {
        "id": "6IvfUXo4KUOU",
        "colab": {
          "base_uri": "https://localhost:8080/",
          "height": 209
        },
        "outputId": "2232990f-bb35-4841-bac7-c9892b635579"
      },
      "outputs": [
        {
          "output_type": "error",
          "ename": "NameError",
          "evalue": "ignored",
          "traceback": [
            "\u001b[0;31m---------------------------------------------------------------------------\u001b[0m",
            "\u001b[0;31mNameError\u001b[0m                                 Traceback (most recent call last)",
            "\u001b[0;32m<ipython-input-16-3758fa68e426>\u001b[0m in \u001b[0;36m<module>\u001b[0;34m\u001b[0m\n\u001b[1;32m      2\u001b[0m \u001b[0mbest_model\u001b[0m\u001b[0;34m.\u001b[0m\u001b[0mfit\u001b[0m\u001b[0;34m(\u001b[0m\u001b[0mx_train\u001b[0m \u001b[0;34m,\u001b[0m \u001b[0my_train\u001b[0m\u001b[0;34m)\u001b[0m\u001b[0;34m\u001b[0m\u001b[0;34m\u001b[0m\u001b[0m\n\u001b[1;32m      3\u001b[0m \u001b[0my_pred\u001b[0m \u001b[0;34m=\u001b[0m \u001b[0mbest_model\u001b[0m\u001b[0;34m.\u001b[0m\u001b[0mpredict\u001b[0m\u001b[0;34m(\u001b[0m\u001b[0mx_test\u001b[0m\u001b[0;34m)\u001b[0m\u001b[0;34m\u001b[0m\u001b[0;34m\u001b[0m\u001b[0m\n\u001b[0;32m----> 4\u001b[0;31m \u001b[0mprint\u001b[0m\u001b[0;34m(\u001b[0m\u001b[0;34m\"Accuracy score: \"\u001b[0m\u001b[0;34m,\u001b[0m \u001b[0maccuracy_score\u001b[0m\u001b[0;34m(\u001b[0m\u001b[0my_pred\u001b[0m\u001b[0;34m,\u001b[0m \u001b[0my_test\u001b[0m\u001b[0;34m)\u001b[0m\u001b[0;34m)\u001b[0m\u001b[0;34m\u001b[0m\u001b[0;34m\u001b[0m\u001b[0m\n\u001b[0m",
            "\u001b[0;31mNameError\u001b[0m: name 'y_test' is not defined"
          ]
        }
      ],
      "source": [
        "best_model = SVC( C = best_C_para , kernel='rbf' , gamma = best_gamma_para )\n",
        "best_model.fit(x_train , y_train)\n",
        "y_pred = best_model.predict(x_test)\n",
        "print(\"Accuracy score: \", accuracy_score(y_pred, y_test))"
      ]
    }
  ],
  "metadata": {
    "colab": {
      "provenance": []
    },
    "kernelspec": {
      "display_name": "Python 3 (ipykernel)",
      "language": "python",
      "name": "python3"
    },
    "language_info": {
      "codemirror_mode": {
        "name": "ipython",
        "version": 3
      },
      "file_extension": ".py",
      "mimetype": "text/x-python",
      "name": "python",
      "nbconvert_exporter": "python",
      "pygments_lexer": "ipython3",
      "version": "3.10.8"
    }
  },
  "nbformat": 4,
  "nbformat_minor": 0
}